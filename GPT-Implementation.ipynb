{
 "cells": [
  {
   "cell_type": "code",
   "execution_count": 102,
   "id": "ac0d6dc0-6702-4b1c-9dbb-d51d9a23cc4f",
   "metadata": {},
   "outputs": [],
   "source": [
    "import pandas as pd\n",
    "import numpy as np\n",
    "import matplotlib.pyplot as plt\n",
    "import torch\n",
    "import torch.nn as nn\n",
    "import time\n",
    "from torch.nn import functional as F\n",
    "from torch.nn import Sequential, Tanh, Parameter\n",
    "import mlflow as mlflow\n",
    "%matplotlib inline"
   ]
  },
  {
   "cell_type": "code",
   "execution_count": 2,
   "id": "e47ef377-1d6a-405c-b333-f3cfc9148516",
   "metadata": {},
   "outputs": [],
   "source": [
    "#!curl https://raw.githubusercontent.com/karpathy/char-rnn/master/data/tinyshakespeare/input.txt -o ../datasets/llm/shakeshpere.txt"
   ]
  },
  {
   "cell_type": "code",
   "execution_count": 3,
   "id": "13984436-be2d-473e-b051-f6457cddcf71",
   "metadata": {},
   "outputs": [],
   "source": [
    "shakspheredata= open(\"input.txt\",mode=\"r\",encoding=\"utf8\").read()"
   ]
  },
  {
   "cell_type": "code",
   "execution_count": 4,
   "id": "3fe52651-2bc5-452e-835c-c58aec301b06",
   "metadata": {},
   "outputs": [
    {
     "name": "stdout",
     "output_type": "stream",
     "text": [
      "\n",
      " !$&',-.3:;?ABCDEFGHIJKLMNOPQRSTUVWXYZabcdefghijklmnopqrstuvwxyz\n"
     ]
    }
   ],
   "source": [
    "vocab = sorted(list(set(shakspheredata)))\n",
    "print(\"\".join(vocab))\n",
    "n_vocab = len(vocab)\n",
    "\n",
    "stoi = {k:v for v,k in enumerate(vocab)}\n",
    "itos = {v:k for v,k in enumerate(vocab)}\n",
    "encode = lambda x:[stoi[i] for i in x]\n",
    "decode = lambda x: \"\".join([itos[i] for i in x])"
   ]
  },
  {
   "cell_type": "code",
   "execution_count": 9,
   "id": "984170d1-7692-4a59-a3c1-00aac603c220",
   "metadata": {},
   "outputs": [
    {
     "name": "stdout",
     "output_type": "stream",
     "text": [
      "[46, 47, 47, 1, 58, 46, 43, 56, 43]\n",
      "hii there\n"
     ]
    }
   ],
   "source": [
    "print(encode(\"hii there\"))\n",
    "print(decode(encode(\"hii there\")))"
   ]
  },
  {
   "cell_type": "code",
   "execution_count": 54,
   "id": "9ec36875-bdda-4fce-8261-abc1c2c48627",
   "metadata": {},
   "outputs": [],
   "source": [
    "#Data prep\n",
    "text = torch.tensor(encode(shakspheredata))\n",
    "n = int(.9*len(text))\n",
    "train = text[:n]\n",
    "val = text[n:]"
   ]
  },
  {
   "cell_type": "code",
   "execution_count": 18,
   "id": "1acd9640-d547-4076-beb4-a9487a6fa344",
   "metadata": {},
   "outputs": [
    {
     "data": {
      "text/plain": [
       "[18, 47, 56, 57, 58, 1, 15, 47, 58]"
      ]
     },
     "execution_count": 18,
     "metadata": {},
     "output_type": "execute_result"
    }
   ],
   "source": [
    "block_size = 8\n",
    "train[:block_size+1]"
   ]
  },
  {
   "cell_type": "code",
   "execution_count": 57,
   "id": "e8d892b9-a8f3-4167-8551-dcecadf69837",
   "metadata": {},
   "outputs": [
    {
     "name": "stdout",
     "output_type": "stream",
     "text": [
      "context tensor([18]) : 47\n",
      "context tensor([18, 47]) : 56\n",
      "context tensor([18, 47, 56]) : 57\n",
      "context tensor([18, 47, 56, 57]) : 58\n",
      "context tensor([18, 47, 56, 57, 58]) : 1\n",
      "context tensor([18, 47, 56, 57, 58,  1]) : 15\n",
      "context tensor([18, 47, 56, 57, 58,  1, 15]) : 47\n",
      "context tensor([18, 47, 56, 57, 58,  1, 15, 47]) : 58\n"
     ]
    }
   ],
   "source": [
    "sample = train[:block_size+1]\n",
    "for x in range(block_size):\n",
    "    print(f\"context {sample[:x+1]} : {sample[x+1]}\")"
   ]
  },
  {
   "cell_type": "code",
   "execution_count": 99,
   "id": "89bd6aeb-38f7-4e45-8052-1f4adfd4e83f",
   "metadata": {},
   "outputs": [],
   "source": [
    "batch_size = 4\n",
    "block_size = 8\n",
    "\n",
    "def get_batch(split):\n",
    "    data = train if \"train\" else val\n",
    "    ix =  torch.randint(len(data) - block_size ,(batch_size,))\n",
    "    x = torch.stack([data[i:i+block_size] for i in ix])\n",
    "    y = torch.stack([data[i+1:i+block_size+1] for i in ix])\n",
    "\n",
    "    return x,y"
   ]
  },
  {
   "cell_type": "code",
   "execution_count": 100,
   "id": "a3feb1ad-e7ec-4b0a-952c-6f096edfcae5",
   "metadata": {},
   "outputs": [],
   "source": [
    "xbch,ybch = get_batch(\"train\")"
   ]
  },
  {
   "cell_type": "code",
   "execution_count": 101,
   "id": "a7dae6a6-d376-4edc-8ece-204f88a7699e",
   "metadata": {},
   "outputs": [
    {
     "data": {
      "text/plain": [
       "(tensor([[43, 51, 40, 43, 56,  1, 58, 46],\n",
       "         [52, 45,  1, 40, 59, 58,  1, 39],\n",
       "         [46, 43, 56, 43,  1, 47, 57,  1],\n",
       "         [46, 39, 50, 44,  1, 57, 53,  1]]),\n",
       " tensor([[51, 40, 43, 56,  1, 58, 46, 43],\n",
       "         [45,  1, 40, 59, 58,  1, 39,  1],\n",
       "         [43, 56, 43,  1, 47, 57,  1, 52],\n",
       "         [39, 50, 44,  1, 57, 53,  1, 45]]))"
      ]
     },
     "execution_count": 101,
     "metadata": {},
     "output_type": "execute_result"
    }
   ],
   "source": [
    "xbch,ybch"
   ]
  },
  {
   "cell_type": "code",
   "execution_count": 105,
   "id": "e3cca0e1-1949-41f3-a234-bb09d7e7ac1f",
   "metadata": {},
   "outputs": [
    {
     "data": {
      "text/plain": [
       "(torch.Size([4, 8]), torch.Size([4, 8]))"
      ]
     },
     "execution_count": 105,
     "metadata": {},
     "output_type": "execute_result"
    }
   ],
   "source": [
    "xbch.shape,ybch.shape"
   ]
  },
  {
   "cell_type": "code",
   "execution_count": 178,
   "id": "03c7a503-b277-44f5-8f74-9f5d7975d5f6",
   "metadata": {},
   "outputs": [],
   "source": [
    "class BigramModel(nn.Module):\n",
    "    def __init__(self,vocab):\n",
    "        super().__init__()\n",
    "        self.embedding_table = nn.Embedding(vocab,vocab)\n",
    "\n",
    "    def forward(self,idx,target=None):\n",
    "        logits = self.embedding_table(idx)\n",
    "        if target == None:\n",
    "            loss = None\n",
    "        else:\n",
    "            B,T,C = logits.shape\n",
    "            logits = logits.view(B*T,C)\n",
    "            loss = F.cross_entropy(logits,target.view(B*T))\n",
    "        return logits,loss\n",
    "\n",
    "    def generate(self,max_tokens,idx):\n",
    "        for _ in range(max_tokens):\n",
    "            logits,loss = self(idx)\n",
    "            logits = logits[:,-1,:]\n",
    "            probs = F.softmax(logits,dim=-1)\n",
    "            idx_next = torch.multinomial(probs,1)\n",
    "            idx =torch.cat((idx,idx_next), dim=1)\n",
    "\n",
    "        return idx"
   ]
  },
  {
   "cell_type": "code",
   "execution_count": 179,
   "id": "9053c601-92a6-40cf-aeff-63a92f42f188",
   "metadata": {},
   "outputs": [],
   "source": [
    "model = BigramModel(n_vocab)"
   ]
  },
  {
   "cell_type": "code",
   "execution_count": 180,
   "id": "9a0740cc-b888-4c84-96fc-83b9a917cddb",
   "metadata": {},
   "outputs": [],
   "source": [
    "logits,loss = model(xbch,ybch)"
   ]
  },
  {
   "cell_type": "code",
   "execution_count": 184,
   "id": "ffba97e2-2d69-4bd3-9f1a-1130fb778fb1",
   "metadata": {},
   "outputs": [
    {
     "data": {
      "text/plain": [
       "101"
      ]
     },
     "execution_count": 184,
     "metadata": {},
     "output_type": "execute_result"
    }
   ],
   "source": [
    "len(decode(model.generate(100,idx =torch.zeros((1, 1), dtype=torch.long))[0].tolist()))"
   ]
  },
  {
   "cell_type": "code",
   "execution_count": 185,
   "id": "a6181a9c-a68d-49f8-98e0-baf3495a0051",
   "metadata": {},
   "outputs": [
    {
     "ename": "IndexError",
     "evalue": "too many indices for tensor of dimension 2",
     "output_type": "error",
     "traceback": [
      "\u001b[0;31m---------------------------------------------------------------------------\u001b[0m",
      "\u001b[0;31mIndexError\u001b[0m                                Traceback (most recent call last)",
      "Cell \u001b[0;32mIn[185], line 1\u001b[0m\n\u001b[0;32m----> 1\u001b[0m F\u001b[38;5;241m.\u001b[39msoftmax(\u001b[43mlogits\u001b[49m\u001b[43m[\u001b[49m\u001b[43m:\u001b[49m\u001b[43m,\u001b[49m\u001b[38;5;241;43m-\u001b[39;49m\u001b[38;5;241;43m1\u001b[39;49m\u001b[43m,\u001b[49m\u001b[43m:\u001b[49m\u001b[43m]\u001b[49m,dim\u001b[38;5;241m=\u001b[39m\u001b[38;5;241m1\u001b[39m)\u001b[38;5;241m.\u001b[39msum(dim\u001b[38;5;241m=\u001b[39m\u001b[38;5;241m1\u001b[39m)\n",
      "\u001b[0;31mIndexError\u001b[0m: too many indices for tensor of dimension 2"
     ]
    }
   ],
   "source": [
    "F.softmax(logits[:,-1,:],dim=1).sum(dim=1)"
   ]
  },
  {
   "cell_type": "code",
   "execution_count": null,
   "id": "75513bc6-32cb-4cf4-89af-37980c0239f8",
   "metadata": {},
   "outputs": [],
   "source": []
  }
 ],
 "metadata": {
  "kernelspec": {
   "display_name": "Python 3 (ipykernel)",
   "language": "python",
   "name": "python3"
  },
  "language_info": {
   "codemirror_mode": {
    "name": "ipython",
    "version": 3
   },
   "file_extension": ".py",
   "mimetype": "text/x-python",
   "name": "python",
   "nbconvert_exporter": "python",
   "pygments_lexer": "ipython3",
   "version": "3.11.7"
  }
 },
 "nbformat": 4,
 "nbformat_minor": 5
}
