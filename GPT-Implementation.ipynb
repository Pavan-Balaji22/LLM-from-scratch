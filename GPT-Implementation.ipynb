{
 "cells": [
  {
   "cell_type": "code",
   "execution_count": 65,
   "id": "ac0d6dc0-6702-4b1c-9dbb-d51d9a23cc4f",
   "metadata": {},
   "outputs": [],
   "source": [
    "import pandas as pd\n",
    "import numpy as np\n",
    "import matplotlib.pyplot as plt\n",
    "import torch\n",
    "import torch.nn as nn\n",
    "import time\n",
    "from torch.nn import functional as F\n",
    "from torch.nn import Sequential, Tanh, Parameter\n",
    "import mlflow as mlflow\n",
    "%matplotlib inline"
   ]
  },
  {
   "cell_type": "code",
   "execution_count": 66,
   "id": "e47ef377-1d6a-405c-b333-f3cfc9148516",
   "metadata": {},
   "outputs": [],
   "source": [
    "#!curl https://raw.githubusercontent.com/karpathy/char-rnn/master/data/tinyshakespeare/input.txt -o ../datasets/llm/shakeshpere.txt"
   ]
  },
  {
   "cell_type": "code",
   "execution_count": 67,
   "id": "13984436-be2d-473e-b051-f6457cddcf71",
   "metadata": {},
   "outputs": [],
   "source": [
    "torch.manual_seed(12345)\n",
    "shakspheredata= open(\"input.txt\",mode=\"r\",encoding=\"utf8\").read()"
   ]
  },
  {
   "cell_type": "code",
   "execution_count": 68,
   "id": "3fe52651-2bc5-452e-835c-c58aec301b06",
   "metadata": {},
   "outputs": [
    {
     "name": "stdout",
     "output_type": "stream",
     "text": [
      "\n",
      " !$&',-.3:;?ABCDEFGHIJKLMNOPQRSTUVWXYZabcdefghijklmnopqrstuvwxyz\n"
     ]
    }
   ],
   "source": [
    "torch.manual_seed(12345)\n",
    "vocab = sorted(list(set(shakspheredata)))\n",
    "print(\"\".join(vocab))\n",
    "n_vocab = len(vocab)\n",
    "\n",
    "stoi = {k:v for v,k in enumerate(vocab)}\n",
    "itos = {v:k for v,k in enumerate(vocab)}\n",
    "encode = lambda x:[stoi[i] for i in x]\n",
    "decode = lambda x: \"\".join([itos[i] for i in x])"
   ]
  },
  {
   "cell_type": "code",
   "execution_count": 69,
   "id": "984170d1-7692-4a59-a3c1-00aac603c220",
   "metadata": {},
   "outputs": [
    {
     "name": "stdout",
     "output_type": "stream",
     "text": [
      "[46, 47, 47, 1, 58, 46, 43, 56, 43]\n",
      "hii there\n"
     ]
    }
   ],
   "source": [
    "print(encode(\"hii there\"))\n",
    "print(decode(encode(\"hii there\")))"
   ]
  },
  {
   "cell_type": "code",
   "execution_count": 70,
   "id": "9ec36875-bdda-4fce-8261-abc1c2c48627",
   "metadata": {},
   "outputs": [],
   "source": [
    "#Data prep\n",
    "torch.manual_seed(12345)\n",
    "text = torch.tensor(encode(shakspheredata))\n",
    "n = int(.9*len(text))\n",
    "train = text[:n]\n",
    "val = text[n:]"
   ]
  },
  {
   "cell_type": "code",
   "execution_count": 57,
   "id": "1acd9640-d547-4076-beb4-a9487a6fa344",
   "metadata": {},
   "outputs": [
    {
     "data": {
      "text/plain": [
       "tensor([18, 47, 56, 57, 58,  1, 15, 47, 58])"
      ]
     },
     "execution_count": 57,
     "metadata": {},
     "output_type": "execute_result"
    }
   ],
   "source": [
    "torch.manual_seed(12345)\n",
    "block_size = 8\n",
    "train[:block_size+1]"
   ]
  },
  {
   "cell_type": "code",
   "execution_count": 58,
   "id": "e8d892b9-a8f3-4167-8551-dcecadf69837",
   "metadata": {},
   "outputs": [
    {
     "name": "stdout",
     "output_type": "stream",
     "text": [
      "context tensor([18]) : 47\n",
      "context tensor([18, 47]) : 56\n",
      "context tensor([18, 47, 56]) : 57\n",
      "context tensor([18, 47, 56, 57]) : 58\n",
      "context tensor([18, 47, 56, 57, 58]) : 1\n",
      "context tensor([18, 47, 56, 57, 58,  1]) : 15\n",
      "context tensor([18, 47, 56, 57, 58,  1, 15]) : 47\n",
      "context tensor([18, 47, 56, 57, 58,  1, 15, 47]) : 58\n"
     ]
    }
   ],
   "source": [
    "torch.manual_seed(12345)\n",
    "sample = train[:block_size+1]\n",
    "for x in range(block_size):\n",
    "    print(f\"context {sample[:x+1]} : {sample[x+1]}\")"
   ]
  },
  {
   "cell_type": "code",
   "execution_count": 59,
   "id": "89bd6aeb-38f7-4e45-8052-1f4adfd4e83f",
   "metadata": {},
   "outputs": [],
   "source": [
    "batch_size = 4\n",
    "block_size = 8"
   ]
  },
  {
   "cell_type": "code",
   "execution_count": 60,
   "id": "03c7a503-b277-44f5-8f74-9f5d7975d5f6",
   "metadata": {},
   "outputs": [],
   "source": [
    "torch.manual_seed(12345)\n",
    "def get_batch(split):\n",
    "    data = train if \"train\" else val\n",
    "    ix =  torch.randint(len(data) - block_size ,(batch_size,))\n",
    "    x = torch.stack([data[i:i+block_size] for i in ix])\n",
    "    y = torch.stack([data[i+1:i+block_size+1] for i in ix])\n",
    "\n",
    "    return x,y\n",
    "\n",
    "class BigramModel(nn.Module):\n",
    "    def __init__(self,vocab):\n",
    "        super().__init__()\n",
    "        self.embedding_table = nn.Embedding(vocab,vocab)\n",
    "\n",
    "    def forward(self,idx,target=None):\n",
    "        logits = self.embedding_table(idx)\n",
    "        if target == None:\n",
    "            loss = None\n",
    "        else:\n",
    "            B,T,C = logits.shape\n",
    "            logits = logits.view(B*T,C)\n",
    "            loss = F.cross_entropy(logits,target.view(B*T))\n",
    "        return logits,loss\n",
    "\n",
    "    def generate(self,max_tokens,idx):\n",
    "        for _ in range(max_tokens):\n",
    "            logits,loss = self(idx)\n",
    "            logits = logits[:,-1,:]\n",
    "            probs = F.softmax(logits,dim=-1)\n",
    "            idx_next = torch.multinomial(probs,1)\n",
    "            idx =torch.cat((idx,idx_next), dim=1)\n",
    "\n",
    "        return idx"
   ]
  },
  {
   "cell_type": "code",
   "execution_count": 61,
   "id": "b53537c0-12d9-4f92-a57f-4fff0e9f4c3d",
   "metadata": {},
   "outputs": [],
   "source": [
    "torch.manual_seed(12345)\n",
    "batch_size = 32\n",
    "block_size = 8\n",
    "lrsloss = []\n",
    "lossi = []\n",
    "lr = 1e-3\n",
    "model = BigramModel(n_vocab)\n",
    "optimizer = torch.optim.AdamW(model.parameters(), lr=lr)"
   ]
  },
  {
   "cell_type": "code",
   "execution_count": 62,
   "id": "ffba97e2-2d69-4bd3-9f1a-1130fb778fb1",
   "metadata": {},
   "outputs": [
    {
     "name": "stdout",
     "output_type": "stream",
     "text": [
      "loss at 0/200000 4.6399\n",
      "loss at 10000/200000 2.4995\n",
      "loss at 20000/200000 2.4302\n",
      "loss at 30000/200000 2.6304\n",
      "loss at 40000/200000 2.4114\n",
      "loss at 50000/200000 2.3805\n",
      "loss at 60000/200000 2.4079\n",
      "loss at 70000/200000 2.3796\n",
      "loss at 80000/200000 2.4392\n",
      "loss at 90000/200000 2.4177\n",
      "loss at 100000/200000 2.5361\n",
      "loss at 110000/200000 2.4080\n",
      "loss at 120000/200000 2.3640\n",
      "loss at 130000/200000 2.4394\n",
      "loss at 140000/200000 2.4261\n",
      "loss at 150000/200000 2.5096\n",
      "loss at 160000/200000 2.3829\n",
      "loss at 170000/200000 2.3807\n",
      "loss at 180000/200000 2.4836\n",
      "loss at 190000/200000 2.3674\n",
      " Final loss: 2.5822\n"
     ]
    }
   ],
   "source": [
    "torch.manual_seed(12345)\n",
    "for i in range(200000):\n",
    "    #forward pass\n",
    "    # lr = 0.01 if i <100000 else 0.001\n",
    "    # optimizer = torch.optim.SGD(Model.parameters(), lr=lr)\n",
    "    xb,yb = get_batch(\"train\")\n",
    "    logits,loss = model(xb,yb)\n",
    "    lossi.append(loss.log10().item())\n",
    "    if i % 10000 == 0:\n",
    "        print(F\"loss at {i}/200000 {loss.item():.4f}\")\n",
    "    #backpass\n",
    "    optimizer.zero_grad(set_to_none= True)\n",
    "    loss.backward()\n",
    "    optimizer.step()\n",
    "    # for p in model.parameters():\n",
    "    #     p.grad = None\n",
    "    # loss.backward()\n",
    "    # for p in model.parameters():\n",
    "    #     p.data += -lr*p.grad\n",
    "\n",
    "\n",
    "        \n",
    "\n",
    "print(F\" Final loss: {loss.item():.4f}\")"
   ]
  },
  {
   "cell_type": "code",
   "execution_count": 63,
   "id": "b2b3279d-640f-4588-9e69-cdaf0732928c",
   "metadata": {},
   "outputs": [
    {
     "name": "stdout",
     "output_type": "stream",
     "text": [
      "\n",
      "S:\n",
      "\n",
      "Tho thisoune il tom thin sthe tices y ie ghed\n",
      "\n",
      "ARord, st gourr h de prewitoro medd d pa nteremeeneriswhe yote\n",
      "Frvokenopapou ty DYow ake, I t hersthed fowhththo ve,\n",
      "\n",
      "\n",
      "O:\n",
      "had dndyo bot y.\n",
      "\n",
      "\n",
      "Thth t, ton ce.\n",
      "CLORBeveng ofe ande.\n",
      "II t anchansbulleerr be al.\n",
      "I abl wendawan f,\n",
      "teed ss soulld thin RI:\n",
      "North cte, inctaved t t mm w od RDI'teo pile, we put, y infrcavepig diththr; d, s mere ald d me viveatiathmede s u s LUCENoknd oucamsthince myser, t,\n",
      "\n",
      "tinatlle his l icold; t: f ghut?\n",
      "METE:\n",
      "KIAs mousobeake fucorissithe hat g gr IShas d th thint,\n",
      "CI hen,\n",
      "CES:\n",
      "Thy t cay!\n",
      "\n",
      "Thellamat t b\n",
      "Fincirs om, bileallergotoo wou wafr RDe, a tie ine thende t tof ce tyou ma an heeju me n:\n",
      "Y mes whathil spowowik Youtid,-\n",
      "An l aldan merestl\n",
      "ANI\n",
      "QUSodaspud tou I t tr oy ll ten\n",
      "\n",
      "Fo civordean m ou asthanctist thes beat id, Th waiathait y Fon:\n",
      "A:\n",
      "S:\n",
      "BICint t be INGLedeve, fodo,\n",
      "Swinoraw I shave; heve blorienoo h as?\n",
      "\n",
      "ABYOUsos n wis e telates idsairenddre ck\n",
      "Welenm glif hotours hibous, ing picavis t a\n",
      "VInt hasiermas\n"
     ]
    }
   ],
   "source": [
    "torch.manual_seed(12345)\n",
    "print(decode(model.generate(1000,idx = torch.zeros((1,1),dtype=torch.long))[0].tolist()))"
   ]
  },
  {
   "cell_type": "code",
   "execution_count": 49,
   "id": "6f262b1f-3e3b-4f57-9509-3bc8b3eca09b",
   "metadata": {},
   "outputs": [
    {
     "data": {
      "image/png": "[encoded data removed]",
      "text/plain": [
       "<Figure size 640x480 with 1 Axes>"
      ]
     },
     "metadata": {},
     "output_type": "display_data"
    }
   ],
   "source": [
    "torch.manual_seed(12345)\n",
    "plt.plot(torch.tensor(lossi).view(-1, 1000).mean(1));"
   ]
  },
  {
   "cell_type": "markdown",
   "id": "2dbb165c-6246-4ce8-8fda-bdcf5d555dbd",
   "metadata": {},
   "source": [
    "### Math trick in self attentionabs"
   ]
  },
  {
   "cell_type": "code",
   "execution_count": 317,
   "id": "f2ad1d05-01c6-4692-8a8e-c6eec885e660",
   "metadata": {},
   "outputs": [],
   "source": [
    "torch.manual_seed(12346)\n",
    "B,T,C = 4,8,32\n",
    "x = torch.randn((B,T,C))"
   ]
  },
  {
   "cell_type": "code",
   "execution_count": 305,
   "id": "2d6ef7dd-40dd-4f80-9d95-5af4324267b0",
   "metadata": {},
   "outputs": [],
   "source": [
    "#multiplication with tril and sum\n",
    "wei = torch.ones((T,T))\n",
    "wei = wei.tril()\n",
    "wei= wei/wei.sum(dim =1,keepdim=True)\n",
    "out = wei @ x"
   ]
  },
  {
   "cell_type": "code",
   "execution_count": 306,
   "id": "0675edba-4763-466e-91ba-702e63dbeda0",
   "metadata": {},
   "outputs": [
    {
     "data": {
      "text/plain": [
       "torch.Size([4, 8, 32])"
      ]
     },
     "execution_count": 306,
     "metadata": {},
     "output_type": "execute_result"
    }
   ],
   "source": [
    "out.shape"
   ]
  },
  {
   "cell_type": "code",
   "execution_count": 307,
   "id": "3b1097d1-3e40-439b-b261-f2c668726214",
   "metadata": {},
   "outputs": [],
   "source": [
    "a = torch.arange(1,10,dtype = torch.float)\n",
    "a = a.view(3,3)\n",
    "b= torch.ones(3,3,dtype = torch.float)\n",
    "b=b.tril()\n",
    "# b=b/b.sum(dim=1,keepdim=True)"
   ]
  },
  {
   "cell_type": "code",
   "execution_count": 308,
   "id": "20439f3d-2dc5-4c50-a238-05e51f1598d2",
   "metadata": {},
   "outputs": [],
   "source": [
    "wei = torch.ones((T,T))\n",
    "wei = wei.tril()\n",
    "wei=wei.masked_fill(wei==0,float('-inf'))\n",
    "wei = torch.softmax(wei,dim=1)\n",
    "# wei= wei/wei.sum(dim =1,keepdim=True)\n",
    "out = wei @ x"
   ]
  },
  {
   "cell_type": "code",
   "execution_count": 309,
   "id": "557b9609-aea1-4a4d-a39d-ce60c3829cbe",
   "metadata": {},
   "outputs": [
    {
     "data": {
      "text/plain": [
       "tensor([[1.0000, 0.0000, 0.0000, 0.0000, 0.0000, 0.0000, 0.0000, 0.0000],\n",
       "        [0.5000, 0.5000, 0.0000, 0.0000, 0.0000, 0.0000, 0.0000, 0.0000],\n",
       "        [0.3333, 0.3333, 0.3333, 0.0000, 0.0000, 0.0000, 0.0000, 0.0000],\n",
       "        [0.2500, 0.2500, 0.2500, 0.2500, 0.0000, 0.0000, 0.0000, 0.0000],\n",
       "        [0.2000, 0.2000, 0.2000, 0.2000, 0.2000, 0.0000, 0.0000, 0.0000],\n",
       "        [0.1667, 0.1667, 0.1667, 0.1667, 0.1667, 0.1667, 0.0000, 0.0000],\n",
       "        [0.1429, 0.1429, 0.1429, 0.1429, 0.1429, 0.1429, 0.1429, 0.0000],\n",
       "        [0.1250, 0.1250, 0.1250, 0.1250, 0.1250, 0.1250, 0.1250, 0.1250]])"
      ]
     },
     "execution_count": 309,
     "metadata": {},
     "output_type": "execute_result"
    }
   ],
   "source": [
    "wei"
   ]
  },
  {
   "cell_type": "code",
   "execution_count": 215,
   "id": "e92ea4b5-18c7-4ce2-8dee-6172b352223b",
   "metadata": {},
   "outputs": [
    {
     "data": {
      "text/plain": [
       "tensor([[[-1.4798e+00,  4.8731e-01],\n",
       "         [-2.2463e+00,  4.6558e-01],\n",
       "         [-1.3776e+00,  3.0627e-01],\n",
       "         [-9.7858e-01, -9.0664e-02],\n",
       "         [-3.0063e-01,  3.2729e-01],\n",
       "         [-1.1972e-01,  1.0283e-01],\n",
       "         [-1.3270e-01,  1.7769e-01],\n",
       "         [ 3.5568e-04,  1.7882e-01]],\n",
       "\n",
       "        [[ 9.5893e-01, -1.1371e+00],\n",
       "         [ 4.8012e-01,  9.0160e-02],\n",
       "         [-1.8199e-02, -1.2085e-01],\n",
       "         [ 9.4036e-02, -5.7205e-01],\n",
       "         [ 3.3034e-01, -6.8395e-01],\n",
       "         [ 4.1995e-01, -4.5198e-01],\n",
       "         [ 3.8937e-01, -5.2027e-01],\n",
       "         [ 3.5498e-01, -5.1087e-01]],\n",
       "\n",
       "        [[-8.5306e-01, -8.4074e-01],\n",
       "         [-6.2469e-01, -5.4994e-01],\n",
       "         [-6.4223e-01, -3.4299e-01],\n",
       "         [-5.9627e-01,  1.6394e-01],\n",
       "         [-4.4854e-01,  2.5969e-01],\n",
       "         [-4.9066e-01,  3.8996e-01],\n",
       "         [-7.5633e-01,  3.6060e-01],\n",
       "         [-5.8259e-01,  1.2431e-01]],\n",
       "\n",
       "        [[-1.2016e+00,  6.7755e-02],\n",
       "         [-5.7797e-01,  2.6859e-01],\n",
       "         [-1.2326e-01, -2.1139e-01],\n",
       "         [ 6.7391e-02, -8.1753e-03],\n",
       "         [ 1.3106e-01, -9.9540e-02],\n",
       "         [-1.8990e-01, -1.9090e-02],\n",
       "         [-2.7734e-01, -2.9495e-02],\n",
       "         [-3.0484e-01, -2.1169e-01]]])"
      ]
     },
     "execution_count": 215,
     "metadata": {},
     "output_type": "execute_result"
    }
   ],
   "source": [
    "out"
   ]
  },
  {
   "cell_type": "code",
   "execution_count": 332,
   "id": "5083f4bb-fd66-4c19-bda6-e03215e831a5",
   "metadata": {},
   "outputs": [],
   "source": [
    "#self attention\n",
    "n_head = 16\n",
    "key = nn.Linear(C,n_head ,bias = False) \n",
    "query = nn.Linear(C,n_head ,bias = False)\n",
    "value = nn.Linear(C,n_head,bias = False)"
   ]
  },
  {
   "cell_type": "code",
   "execution_count": 328,
   "id": "d3ae686b-7634-4b75-8b9e-c57ff5bc67f0",
   "metadata": {},
   "outputs": [],
   "source": [
    "kx = key(x) #B,T, n_head\n",
    "qx = query(x) #B,T, n_head\n",
    "wei = kx @ qx.transpose(-2,-1) # transpose last 2 dimension\n",
    "wei = wei.tril()\n",
    "wei=wei.masked_fill(wei==0,float('-inf'))\n",
    "wei = torch.softmax(wei,dim=1)\n",
    "out = wei @ value(x)"
   ]
  },
  {
   "cell_type": "code",
   "execution_count": 329,
   "id": "61965c64-5eb1-4c32-b52c-3da52f635eb9",
   "metadata": {},
   "outputs": [
    {
     "data": {
      "text/plain": [
       "torch.Size([4, 8, 8])"
      ]
     },
     "execution_count": 329,
     "metadata": {},
     "output_type": "execute_result"
    }
   ],
   "source": [
    "wei.shape"
   ]
  },
  {
   "cell_type": "code",
   "execution_count": 330,
   "id": "64555a90-3445-4927-af62-7f18d4fcb154",
   "metadata": {},
   "outputs": [
    {
     "data": {
      "text/plain": [
       "torch.Size([4, 8, 16])"
      ]
     },
     "execution_count": 330,
     "metadata": {},
     "output_type": "execute_result"
    }
   ],
   "source": [
    "out.shape"
   ]
  },
  {
   "cell_type": "code",
   "execution_count": 331,
   "id": "17d410a8-d5fe-4a7a-8d68-1f8f6b9b0dda",
   "metadata": {},
   "outputs": [
    {
     "name": "stdout",
     "output_type": "stream",
     "text": [
      "tensor([0, 1, 2, 3, 4, 5, 6, 7])\n"
     ]
    }
   ],
   "source": [
    "print(torch.arange(T))"
   ]
  }
 ],
 "metadata": {
  "kernelspec": {
   "display_name": "Python 3 (ipykernel)",
   "language": "python",
   "name": "python3"
  },
  "language_info": {
   "codemirror_mode": {
    "name": "ipython",
    "version": 3
   },
   "file_extension": ".py",
   "mimetype": "text/x-python",
   "name": "python",
   "nbconvert_exporter": "python",
   "pygments_lexer": "ipython3",
   "version": "3.11.7"
  }
 },
 "nbformat": 4,
 "nbformat_minor": 5
}
