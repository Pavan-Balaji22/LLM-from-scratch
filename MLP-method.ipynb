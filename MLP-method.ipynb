{
 "cells": [
  {
   "cell_type": "code",
   "execution_count": 37,
   "id": "e9f00160-e74b-40fa-abe3-ee2a7f54ce6b",
   "metadata": {},
   "outputs": [],
   "source": [
    "import pandas as pd\n",
    "import numpy as np\n",
    "import matplotlib.pyplot as plt\n",
    "import torch\n",
    "from torch.nn import functional as F\n",
    "%matplotlib inline"
   ]
  },
  {
   "cell_type": "code",
   "execution_count": 70,
   "id": "f9825deb-36c9-4d18-876d-fd634ae86d9e",
   "metadata": {},
   "outputs": [
    {
     "data": {
      "text/plain": [
       "['emma', 'olivia', 'ava', 'isabella', 'sophia']"
      ]
     },
     "execution_count": 70,
     "metadata": {},
     "output_type": "execute_result"
    }
   ],
   "source": [
    "names = open(\"../datasets/llm/names.txt\",mode=\"r\",encoding=\"utf8\").read().splitlines()\n",
    "names[:5]"
   ]
  },
  {
   "cell_type": "code",
   "execution_count": 71,
   "id": "ef90e534-3433-4b13-9e81-228aef858f02",
   "metadata": {},
   "outputs": [],
   "source": [
    "vocab = \"\".join(sorted(set(x for word in names+[\".\"] for x in word))) # building vocab"
   ]
  },
  {
   "cell_type": "code",
   "execution_count": 72,
   "id": "8dfd99f7-ee67-420a-9be5-dcca3a55ddcd",
   "metadata": {},
   "outputs": [],
   "source": [
    "stoi = {k:v for v,k in enumerate(vocab)}\n",
    "itos = {v:k for v,k in enumerate(vocab)}"
   ]
  },
  {
   "cell_type": "code",
   "execution_count": 73,
   "id": "3ac49fde-7582-4296-9545-dbef8bc6df99",
   "metadata": {
    "scrolled": true
   },
   "outputs": [
    {
     "name": "stdout",
     "output_type": "stream",
     "text": [
      "torch.Size([182574, 3]) torch.Size([182574])\n",
      "torch.Size([22737, 3]) torch.Size([22737])\n",
      "torch.Size([22835, 3]) torch.Size([22835])\n"
     ]
    }
   ],
   "source": [
    "torch.set_default_device(\"mps\")\n",
    "def build_dataset(data, n_context):\n",
    "    xs = []\n",
    "    ys = []\n",
    "    \n",
    "    for x in data:\n",
    "        context = [0]* n_context\n",
    "        for ch in x + \".\":\n",
    "            # print(f\"{context} {stoi[ch]}\")\n",
    "            ix = stoi[ch]\n",
    "            xs.append(context)\n",
    "            ys.append(ix)\n",
    "            context = context[1:]+[ix]\n",
    "    xs = torch.tensor(xs)\n",
    "    ys = torch.tensor(ys)\n",
    "    print(xs.shape,ys.shape)\n",
    "    return xs,ys\n",
    "\n",
    "np.random.shuffle(names)\n",
    "\n",
    "data_size =  len(names)\n",
    "n_context = 3\n",
    "train_data = names[:int(data_size * .8)]\n",
    "dev_data = names[int(data_size * .8):int(data_size * .9)]\n",
    "test_data = names[int(data_size * .9):]\n",
    "\n",
    "Xtr,Ytr = build_dataset(train_data,n_context) \n",
    "Xdev,Ydev = build_dataset(dev_data,n_context)\n",
    "Xtest,Ytest = build_dataset(test_data,n_context)"
   ]
  },
  {
   "cell_type": "code",
   "execution_count": 74,
   "id": "77d6fe41-ef15-4998-b98f-a05ebd6f95b8",
   "metadata": {},
   "outputs": [
    {
     "data": {
      "text/plain": [
       "tensor([[ 0,  0,  0],\n",
       "        [ 0,  0, 13],\n",
       "        [ 0, 13, 25],\n",
       "        ...,\n",
       "        [14,  1, 25],\n",
       "        [ 1, 25,  1],\n",
       "        [25,  1, 20]], device='mps:0')"
      ]
     },
     "execution_count": 74,
     "metadata": {},
     "output_type": "execute_result"
    }
   ],
   "source": [
    "Xtr"
   ]
  },
  {
   "cell_type": "code",
   "execution_count": 75,
   "id": "169b11c7-3f0e-4b17-a3d7-81ed768fbe04",
   "metadata": {},
   "outputs": [],
   "source": [
    "e_dim = 2\n",
    "h_dim = 200\n",
    "g = torch.Generator(device = \"mps:0\").manual_seed(2147483647)\n",
    "C = torch.randn(len(vocab), e_dim, generator=g) # character embeddings with dimension of 2\n",
    "W1 = torch.randn(n_context*e_dim, h_dim, generator=g)\n",
    "b1 = torch.randn(h_dim, generator=g)\n",
    "W2 = torch.randn(h_dim,len(vocab), generator=g)\n",
    "b2 = torch.randn(len(vocab), generator=g)\n",
    "\n",
    "parameters = [C,W1,b1,W2,b2]"
   ]
  },
  {
   "cell_type": "code",
   "execution_count": 76,
   "id": "d174aee6-0d27-4052-acf7-3695b51b75a3",
   "metadata": {},
   "outputs": [
    {
     "data": {
      "text/plain": [
       "6881"
      ]
     },
     "execution_count": 76,
     "metadata": {},
     "output_type": "execute_result"
    }
   ],
   "source": [
    "sum( p.nelement() for p in parameters)"
   ]
  },
  {
   "cell_type": "code",
   "execution_count": 77,
   "id": "11ba50ac-5566-48d9-a51f-7050f024cf75",
   "metadata": {},
   "outputs": [],
   "source": [
    "for p in parameters:\n",
    "    p.requires_grad = True"
   ]
  },
  {
   "cell_type": "code",
   "execution_count": 78,
   "id": "5b06d304-c101-4798-b1ad-787df43d0adb",
   "metadata": {},
   "outputs": [
    {
     "name": "stdout",
     "output_type": "stream",
     "text": [
      "2.118727684020996\n"
     ]
    }
   ],
   "source": [
    "batch_size = 32\n",
    "for i in range(200000):\n",
    "    #forward pass\n",
    "    ix = torch.randint(0,high = Xtr.shape[0],size=(batch_size,))\n",
    "    emb = C[Xtr[ix]]\n",
    "    out = emb.view(-1,n_context*e_dim) @ W1 + b1\n",
    "    out =  torch.tanh(out)\n",
    "    out = out @ W2 + b2\n",
    "    loss = F.cross_entropy(out,Ytr[ix])\n",
    "    # print(loss.item())\n",
    "    for p in parameters:\n",
    "        p.grad = None \n",
    "    #backpass\n",
    "    loss.backward()\n",
    "    \n",
    "    #update\n",
    "    lr = 0.1 if i <100000 else 0.01\n",
    "    for p in parameters:\n",
    "        p.data += -lr*p.grad\n",
    "print(loss.item())"
   ]
  },
  {
   "cell_type": "code",
   "execution_count": 79,
   "id": "4d530df5-8f80-40b1-b386-5a54dcdea0ef",
   "metadata": {},
   "outputs": [
    {
     "data": {
      "image/png": "[encoded data removed]",
      "text/plain": [
       "<Figure size 800x800 with 1 Axes>"
      ]
     },
     "metadata": {},
     "output_type": "display_data"
    }
   ],
   "source": [
    "plt.figure(figsize=(8,8))\n",
    "i=0\n",
    "C1 = C.cpu().detach().numpy()\n",
    "plt.scatter(C1[:,0],C1[:,1])\n",
    "for i in range(C.shape[0]):\n",
    "    plt.text(C[i,0].item(), C[i,1].item(), itos[i], ha=\"center\", va=\"center\", color='white')\n",
    "plt.grid('minor')"
   ]
  },
  {
   "cell_type": "code",
   "execution_count": null,
   "id": "26c43af5-2115-4aa2-8525-1ef203f697d4",
   "metadata": {},
   "outputs": [],
   "source": []
  }
 ],
 "metadata": {
  "kernelspec": {
   "display_name": "Python 3 (ipykernel)",
   "language": "python",
   "name": "python3"
  },
  "language_info": {
   "codemirror_mode": {
    "name": "ipython",
    "version": 3
   },
   "file_extension": ".py",
   "mimetype": "text/x-python",
   "name": "python",
   "nbconvert_exporter": "python",
   "pygments_lexer": "ipython3",
   "version": "3.11.7"
  }
 },
 "nbformat": 4,
 "nbformat_minor": 5
}
