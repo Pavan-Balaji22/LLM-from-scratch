{
 "cells": [
  {
   "cell_type": "code",
   "execution_count": 316,
   "id": "e9f00160-e74b-40fa-abe3-ee2a7f54ce6b",
   "metadata": {},
   "outputs": [],
   "source": [
    "import pandas as pd\n",
    "import numpy as np\n",
    "import matplotlib.pyplot as plt\n",
    "import torch\n",
    "import time\n",
    "from torch.nn import functional as F\n",
    "from torch.nn import Sequential, Tanh, Parameter\n",
    "import mlflow as mlflow\n",
    "%matplotlib inline"
   ]
  },
  {
   "cell_type": "code",
   "execution_count": 87,
   "id": "a35f4c3e-bd6c-47b1-86df-5489c667a1ad",
   "metadata": {},
   "outputs": [
    {
     "data": {
      "text/plain": [
       "True"
      ]
     },
     "execution_count": 87,
     "metadata": {},
     "output_type": "execute_result"
    }
   ],
   "source": [
    "torch.backends.mps.is_available()"
   ]
  },
  {
   "cell_type": "code",
   "execution_count": 88,
   "id": "f9825deb-36c9-4d18-876d-fd634ae86d9e",
   "metadata": {},
   "outputs": [
    {
     "data": {
      "text/plain": [
       "['emma', 'olivia', 'ava', 'isabella', 'sophia']"
      ]
     },
     "execution_count": 88,
     "metadata": {},
     "output_type": "execute_result"
    }
   ],
   "source": [
    "names = open(\"../datasets/llm/names.txt\",mode=\"r\",encoding=\"utf8\").read().splitlines()\n",
    "names[:5]"
   ]
  },
  {
   "cell_type": "code",
   "execution_count": 89,
   "id": "ef90e534-3433-4b13-9e81-228aef858f02",
   "metadata": {},
   "outputs": [],
   "source": [
    "vocab = \"\".join(sorted(set(x for word in names+[\".\"] for x in word))) # building vocab"
   ]
  },
  {
   "cell_type": "code",
   "execution_count": 90,
   "id": "4f8e56f2-a251-4a64-ba6e-5c6279133a78",
   "metadata": {},
   "outputs": [
    {
     "data": {
      "text/plain": [
       "27"
      ]
     },
     "execution_count": 90,
     "metadata": {},
     "output_type": "execute_result"
    }
   ],
   "source": [
    "len(vocab)"
   ]
  },
  {
   "cell_type": "code",
   "execution_count": 91,
   "id": "8dfd99f7-ee67-420a-9be5-dcca3a55ddcd",
   "metadata": {},
   "outputs": [],
   "source": [
    "stoi = {k:v for v,k in enumerate(vocab)}\n",
    "itos = {v:k for v,k in enumerate(vocab)}"
   ]
  },
  {
   "cell_type": "code",
   "execution_count": 92,
   "id": "3ac49fde-7582-4296-9545-dbef8bc6df99",
   "metadata": {
    "scrolled": true
   },
   "outputs": [
    {
     "name": "stdout",
     "output_type": "stream",
     "text": [
      "torch.Size([182424, 3]) torch.Size([182424])\n",
      "torch.Size([22982, 3]) torch.Size([22982])\n",
      "torch.Size([22740, 3]) torch.Size([22740])\n"
     ]
    }
   ],
   "source": [
    "torch.set_default_device(\"cpu\")\n",
    "def build_dataset(data, n_context):\n",
    "    xs = []\n",
    "    ys = []\n",
    "    \n",
    "    for x in data:\n",
    "        context = [0]* n_context\n",
    "        for ch in x + \".\":\n",
    "            # print(f\"{context} {stoi[ch]}\")\n",
    "            ix = stoi[ch]\n",
    "            xs.append(context)\n",
    "            ys.append(ix)\n",
    "            context = context[1:]+[ix]\n",
    "    xs = torch.tensor(xs)\n",
    "    ys = torch.tensor(ys)\n",
    "    print(xs.shape,ys.shape)\n",
    "    return xs,ys\n",
    "\n",
    "np.random.shuffle(names)\n",
    "\n",
    "data_size =  len(names)\n",
    "n_context = 3\n",
    "train_data = names[:int(data_size * .8)]\n",
    "dev_data = names[int(data_size * .8):int(data_size * .9)]\n",
    "test_data = names[int(data_size * .9):]\n",
    "\n",
    "Xtr,Ytr = build_dataset(train_data,n_context) \n",
    "Xdev,Ydev = build_dataset(dev_data,n_context)\n",
    "Xtest,Ytest = build_dataset(test_data,n_context)"
   ]
  },
  {
   "cell_type": "code",
   "execution_count": 93,
   "id": "77d6fe41-ef15-4998-b98f-a05ebd6f95b8",
   "metadata": {},
   "outputs": [
    {
     "data": {
      "text/plain": [
       "tensor([[ 0,  0,  0],\n",
       "        [ 0,  0, 10],\n",
       "        [ 0, 10,  5],\n",
       "        ...,\n",
       "        [ 0,  1, 13],\n",
       "        [ 1, 13, 25],\n",
       "        [13, 25,  1]])"
      ]
     },
     "execution_count": 93,
     "metadata": {},
     "output_type": "execute_result"
    }
   ],
   "source": [
    "Xtr"
   ]
  },
  {
   "cell_type": "code",
   "execution_count": 94,
   "id": "169b11c7-3f0e-4b17-a3d7-81ed768fbe04",
   "metadata": {},
   "outputs": [],
   "source": [
    "e_dim = 10\n",
    "h_dim = 200\n",
    "g = torch.Generator().manual_seed(2147483647)\n",
    "C = torch.randn(len(vocab), e_dim, generator=g) # character embeddings with dimension of e_dim\n",
    "W1 = torch.randn(n_context*e_dim, h_dim, generator=g) #* (5/3) /((e_dim * n_context)**0.5) # kammit init\n",
    "b1 = torch.randn(h_dim, generator=g) * 0.01\n",
    "W2 = torch.randn(h_dim,len(vocab), generator=g) * 0.01\n",
    "b2 = torch.randn(len(vocab), generator=g) * 0\n",
    "\n",
    "#Batch Norm pparameters\n",
    "bgain = torch.ones((1,h_dim))\n",
    "bbias = torch.zeros((1,h_dim))\n",
    "bmeanrunning = torch.zeros((1,h_dim))\n",
    "bstdrunning = torch.ones((1,h_dim))\n",
    "alpha = 0.999\n",
    "eps = 1e-5\n",
    "\n",
    "parameters = [C,W1,b1,W2,b2,bgain,bbias]"
   ]
  },
  {
   "cell_type": "code",
   "execution_count": 95,
   "id": "33803c6c-c7cc-4450-8b0b-5132559a8491",
   "metadata": {},
   "outputs": [],
   "source": [
    "lrs = torch.linspace(-3,1,20)\n",
    "loglrs = 10**lrs"
   ]
  },
  {
   "cell_type": "code",
   "execution_count": 96,
   "id": "bcac3442-c65a-47a6-9b81-0892d388184f",
   "metadata": {},
   "outputs": [],
   "source": [
    "lossi = []\n",
    "rsloss = []"
   ]
  },
  {
   "cell_type": "code",
   "execution_count": 97,
   "id": "d174aee6-0d27-4052-acf7-3695b51b75a3",
   "metadata": {},
   "outputs": [
    {
     "data": {
      "text/plain": [
       "12297"
      ]
     },
     "execution_count": 97,
     "metadata": {},
     "output_type": "execute_result"
    }
   ],
   "source": [
    "sum( p.nelement() for p in parameters)"
   ]
  },
  {
   "cell_type": "code",
   "execution_count": 98,
   "id": "11ba50ac-5566-48d9-a51f-7050f024cf75",
   "metadata": {},
   "outputs": [],
   "source": [
    "for p in parameters:\n",
    "    p.requires_grad = True"
   ]
  },
  {
   "cell_type": "code",
   "execution_count": 99,
   "id": "5b06d304-c101-4798-b1ad-787df43d0adb",
   "metadata": {},
   "outputs": [
    {
     "name": "stdout",
     "output_type": "stream",
     "text": [
      "loss at 0/200000 3.3343\n",
      "loss at 10000/200000 2.2262\n",
      "loss at 20000/200000 1.9315\n",
      "loss at 30000/200000 2.3471\n",
      "loss at 40000/200000 2.2965\n",
      "loss at 50000/200000 2.2198\n",
      "loss at 60000/200000 2.5139\n",
      "loss at 70000/200000 2.1343\n",
      "loss at 80000/200000 2.0534\n",
      "loss at 90000/200000 2.0162\n",
      "loss at 100000/200000 2.2443\n",
      "loss at 110000/200000 2.0517\n",
      "loss at 120000/200000 1.9244\n",
      "loss at 130000/200000 2.4235\n",
      "loss at 140000/200000 1.9642\n",
      "loss at 150000/200000 1.8479\n",
      "loss at 160000/200000 1.8290\n",
      "loss at 170000/200000 2.2463\n",
      "loss at 180000/200000 2.2990\n",
      "loss at 190000/200000 1.9579\n",
      "Mins taken: -1.6969283819198608\n",
      " Final loss: 2.4568\n"
     ]
    }
   ],
   "source": [
    "\n",
    "t = time.time()\n",
    "batch_size = 32\n",
    "lrsloss = []\n",
    "for i in range(200000):\n",
    "    #forward pass\n",
    "    ix = torch.randint(0,high = Xtr.shape[0],size=(batch_size,))\n",
    "    emb = C[Xtr[ix]]\n",
    "    preh = emb.view(-1,n_context*e_dim) @ W1 + b1\n",
    "    bmeani = preh.mean(0,keepdim=True)\n",
    "    bstdi = preh.std(0,keepdim = True)\n",
    "    preh = bgain*(preh - bmeani)/ (bstdi + eps) + bbias\n",
    "    with torch.no_grad():\n",
    "        bmeanrunning = alpha * bmeanrunning + (1 - alpha)* bmeani\n",
    "        bstdrunning = alpha * bstdrunning + (1 - alpha) * bstdi\n",
    "        \n",
    "    h =  torch.tanh(preh)\n",
    "    out = h @ W2 + b2\n",
    "    loss = F.cross_entropy(out,Ytr[ix])\n",
    "    lossi.append(loss.item())\n",
    "    if i % 10000 == 0:\n",
    "        print(F\"loss at {i}/200000 {loss.item():.4f}\")\n",
    "    for p in parameters:\n",
    "        p.grad = None \n",
    "    #backpass\n",
    "    loss.backward()\n",
    "    \n",
    "    #update\n",
    "    lr = 0.1 if i <100000 else 0.01\n",
    "    for p in parameters:\n",
    "        p.data += -lr*p.grad\n",
    "print(F\"Mins taken: {(t - time.time())/60}\")\n",
    "print(F\" Final loss: {loss.item():.4f}\")\n"
   ]
  },
  {
   "cell_type": "code",
   "execution_count": 131,
   "id": "27367689-99fa-4d4b-beee-6f1393e6b9ea",
   "metadata": {},
   "outputs": [
    {
     "data": {
      "text/plain": [
       "[<matplotlib.lines.Line2D at 0x326472d50>]"
      ]
     },
     "execution_count": 131,
     "metadata": {},
     "output_type": "execute_result"
    },
    {
     "data": {
      "image/png": "[encoded data removed]",
      "text/plain": [
       "<Figure size 640x480 with 1 Axes>"
      ]
     },
     "metadata": {},
     "output_type": "display_data"
    }
   ],
   "source": [
    "plt.plot(lossi)"
   ]
  },
  {
   "cell_type": "code",
   "execution_count": 132,
   "id": "8e2a1ab7-6859-4e3f-9d38-e3abb80add70",
   "metadata": {},
   "outputs": [
    {
     "data": {
      "image/png": "[encoded data removed]",
      "text/plain": [
       "<Figure size 640x480 with 1 Axes>"
      ]
     },
     "metadata": {},
     "output_type": "display_data"
    }
   ],
   "source": [
    "plt.hist(h.view(-1).data,bins=50)\n",
    "plt.show()"
   ]
  },
  {
   "cell_type": "code",
   "execution_count": 133,
   "id": "d6f86c03-10e5-4582-af6e-ee06d37b024c",
   "metadata": {},
   "outputs": [
    {
     "data": {
      "image/png": "[encoded data removed]",
      "text/plain": [
       "<Figure size 640x480 with 1 Axes>"
      ]
     },
     "metadata": {},
     "output_type": "display_data"
    }
   ],
   "source": [
    "plt.hist(preh.view(-1).data,bins=50)\n",
    "plt.show()"
   ]
  },
  {
   "cell_type": "code",
   "execution_count": 134,
   "id": "2c1e99f3-640d-48e2-9152-2fbc37f5515f",
   "metadata": {
    "scrolled": true
   },
   "outputs": [
    {
     "data": {
      "image/png": "[encoded data removed]",
      "text/plain": [
       "<Figure size 800x800 with 1 Axes>"
      ]
     },
     "metadata": {},
     "output_type": "display_data"
    }
   ],
   "source": [
    "plt.figure(figsize=(8,8))\n",
    "plt.imshow(h.abs() > .99,cmap=\"grey\",interpolation=\"nearest\");"
   ]
  },
  {
   "cell_type": "code",
   "execution_count": 135,
   "id": "7675f905-31d1-421d-9f3f-3b4beb54af1f",
   "metadata": {},
   "outputs": [],
   "source": [
    "with torch.no_grad():\n",
    "    emb = C[Xtr]\n",
    "    preh = emb.view(-1,n_context*e_dim) @ W1 + b1\n",
    "    bmean = preh.mean(0,keepdim=True)\n",
    "    bstd = preh.std(0,keepdim = True)\n",
    "    "
   ]
  },
  {
   "cell_type": "code",
   "execution_count": 136,
   "id": "134fa657-1be3-4a59-bf0b-d2621c5bbc0a",
   "metadata": {},
   "outputs": [
    {
     "data": {
      "text/plain": [
       "tensor([[-4.0804e+00,  4.1977e-01, -4.6892e+00,  2.5287e+00,  2.9221e+00,\n",
       "          1.9070e+00,  5.6661e+00, -4.3624e+00,  9.1693e-01,  3.4727e+00,\n",
       "         -4.8335e+00, -5.7923e+00, -1.0815e+00, -1.2692e+00, -2.6707e-01,\n",
       "          1.5299e+00,  2.1963e+00, -5.4819e+00, -2.9082e+00,  3.3509e+00,\n",
       "          9.0327e-01, -3.3229e+00, -1.7457e+00,  2.6683e+00,  2.3498e+00,\n",
       "          2.2184e+00,  1.6561e+00, -7.7108e-01,  5.7945e-03,  3.0946e+00,\n",
       "         -1.1574e+00, -3.4161e+00,  7.5633e-01,  1.1627e+00, -1.2786e+00,\n",
       "         -3.5290e+00, -1.0892e+00, -2.0435e+00, -1.1587e+00,  1.9304e+00,\n",
       "          3.3249e-01, -3.6693e+00, -3.7043e+00, -2.6441e-01,  2.6417e+00,\n",
       "         -7.4664e-01,  8.1036e-01, -3.4601e+00,  3.9051e+00,  4.8033e+00,\n",
       "          2.5449e+00,  2.3689e+00,  5.5921e+00,  5.2487e+00,  3.1920e+00,\n",
       "         -4.4182e+00, -7.5544e-01,  2.6648e+00,  5.0518e+00, -2.9564e+00,\n",
       "         -1.4685e+00,  2.3872e+00,  1.4084e+00, -4.5078e-01,  4.5137e+00,\n",
       "          1.9941e+00,  2.1586e+00,  1.3519e+00, -9.8301e-01, -7.5909e-01,\n",
       "          6.1825e-01,  3.7332e+00,  2.9607e+00, -3.7538e+00, -5.6836e+00,\n",
       "         -2.1274e-01,  4.6101e+00, -5.9858e-01,  1.7909e+00,  1.4998e-02,\n",
       "          3.1651e+00,  5.6676e+00,  3.4718e+00,  3.2834e+00,  1.0670e+00,\n",
       "         -1.4937e+00, -5.4219e+00, -2.7862e-01,  6.0299e+00, -1.6281e+00,\n",
       "         -1.7674e+00,  2.1083e+00, -5.4807e-01, -3.0813e-01, -5.5661e-01,\n",
       "         -9.3895e-01, -2.6577e+00, -1.4662e+00, -5.1125e-01, -3.0864e+00,\n",
       "          8.8215e-01,  1.4923e+00, -5.4333e+00,  6.5659e-01,  2.0663e+00,\n",
       "          5.5819e-01, -5.0843e+00, -1.1603e+00,  3.4815e+00, -1.9071e+00,\n",
       "          2.6352e+00,  3.5792e+00, -2.1576e-01,  7.6633e+00,  2.8943e+00,\n",
       "          3.5542e+00,  1.7060e+00,  7.4172e-01,  4.4515e-02, -1.3871e+00,\n",
       "         -1.9874e+00, -2.7184e+00,  2.7882e+00,  3.5333e+00, -2.6635e+00,\n",
       "          4.0725e-01,  6.6578e-01, -3.2118e+00, -3.1362e+00, -7.4757e-01,\n",
       "          6.0366e+00, -7.6465e-01,  1.2122e+00,  2.3181e+00,  2.0787e+00,\n",
       "          9.2410e-01, -4.8899e-01,  1.7419e+00,  2.7385e+00,  1.5031e+00,\n",
       "          3.3242e+00,  1.1515e-01,  2.7660e+00,  2.2378e-01,  5.8562e+00,\n",
       "          1.1371e+00,  2.9501e+00, -1.8575e-01,  4.8644e-01, -1.0726e-01,\n",
       "         -3.2558e+00,  3.5959e+00,  2.8544e+00,  5.1924e+00,  2.9793e+00,\n",
       "         -1.4316e+00,  2.9485e+00, -2.5699e+00, -2.4677e+00,  1.9502e+00,\n",
       "          2.0992e+00, -1.1153e+00,  1.2312e+00, -7.1143e+00, -1.5780e+00,\n",
       "         -8.1480e-01,  7.5536e-01,  9.9828e-01, -3.3730e+00, -1.4718e+00,\n",
       "          1.1802e+00, -3.1894e+00,  7.6005e-01, -1.9311e+00, -6.5212e-01,\n",
       "          3.2353e+00,  5.2813e+00, -1.5300e+00,  3.0916e+00, -4.0306e+00,\n",
       "          3.2486e+00,  2.9622e+00, -3.8557e-01, -6.4034e-01,  9.4639e-01,\n",
       "          2.1987e+00,  1.0271e-01,  1.0822e+00,  7.8763e+00,  2.3494e+00,\n",
       "          4.6429e-01,  4.4569e+00,  2.9942e-01,  2.0710e+00, -7.1958e-02,\n",
       "          1.5325e+00,  5.6614e+00, -3.5787e+00,  3.9472e-01,  1.5189e+00]])"
      ]
     },
     "execution_count": 136,
     "metadata": {},
     "output_type": "execute_result"
    }
   ],
   "source": [
    "bmean"
   ]
  },
  {
   "cell_type": "code",
   "execution_count": 137,
   "id": "3c7d64fa-7b5d-464c-bf3c-104c75a3cf93",
   "metadata": {},
   "outputs": [
    {
     "data": {
      "text/plain": [
       "tensor([[-4.0453,  0.4373, -4.7051,  2.5236,  2.9246,  1.9079,  5.6761, -4.3521,\n",
       "          0.9891,  3.4835, -4.8388, -5.7726, -1.1002, -1.2218, -0.2717,  1.5563,\n",
       "          2.2539, -5.4826, -2.8940,  3.3739,  0.8913, -3.3003, -1.7345,  2.6470,\n",
       "          2.3274,  2.2323,  1.6442, -0.7554,  0.0174,  3.0964, -1.1567, -3.4478,\n",
       "          0.7707,  1.1625, -1.2413, -3.4878, -1.0728, -2.0125, -1.1539,  1.9484,\n",
       "          0.3582, -3.6592, -3.6776, -0.2529,  2.6668, -0.7494,  0.7889, -3.4426,\n",
       "          3.9277,  4.7465,  2.5516,  2.4050,  5.5830,  5.2274,  3.1729, -4.4687,\n",
       "         -0.7371,  2.6341,  5.0069, -2.9441, -1.4949,  2.3751,  1.3756, -0.4494,\n",
       "          4.5013,  2.0350,  2.1552,  1.3730, -0.9551, -0.8015,  0.6551,  3.7245,\n",
       "          2.9639, -3.7763, -5.6703, -0.2242,  4.6218, -0.5616,  1.8264,  0.0111,\n",
       "          3.2102,  5.6674,  3.4874,  3.2643,  1.0560, -1.5414, -5.4417, -0.2981,\n",
       "          6.0382, -1.5969, -1.7594,  2.1212, -0.5316, -0.3180, -0.5290, -0.9044,\n",
       "         -2.6245, -1.4546, -0.4863, -3.1422,  0.8948,  1.4610, -5.4625,  0.6888,\n",
       "          2.0760,  0.5662, -5.0712, -1.1544,  3.5102, -1.9267,  2.6365,  3.5343,\n",
       "         -0.2123,  7.6870,  2.8947,  3.5687,  1.6741,  0.7537,  0.0270, -1.4303,\n",
       "         -1.9422, -2.7795,  2.8028,  3.4973, -2.6536,  0.3756,  0.6679, -3.2127,\n",
       "         -3.1532, -0.7594,  6.0105, -0.7623,  1.1469,  2.3084,  2.0964,  0.8979,\n",
       "         -0.5397,  1.7425,  2.7641,  1.5106,  3.3316,  0.1149,  2.7728,  0.2568,\n",
       "          5.8643,  1.1631,  2.9620, -0.1725,  0.5085, -0.1210, -3.2708,  3.5637,\n",
       "          2.8733,  5.2116,  2.9830, -1.4311,  2.9312, -2.5377, -2.4624,  1.9266,\n",
       "          2.1159, -1.1362,  1.2163, -7.1328, -1.5561, -0.8163,  0.7408,  0.9986,\n",
       "         -3.3954, -1.4687,  1.1893, -3.1964,  0.7439, -1.9502, -0.6431,  3.2452,\n",
       "          5.3072, -1.5139,  3.1278, -4.0275,  3.2439,  2.9331, -0.3690, -0.6336,\n",
       "          0.9581,  2.2069,  0.1150,  1.0661,  7.8509,  2.3326,  0.4391,  4.4474,\n",
       "          0.2875,  2.0730, -0.0743,  1.5915,  5.6571, -3.5731,  0.3824,  1.5120]])"
      ]
     },
     "execution_count": 137,
     "metadata": {},
     "output_type": "execute_result"
    }
   ],
   "source": [
    "bmeanrunning"
   ]
  },
  {
   "cell_type": "code",
   "execution_count": 138,
   "id": "e7e6790d-2e5c-4d5f-baa5-02ad6862236d",
   "metadata": {},
   "outputs": [
    {
     "name": "stdout",
     "output_type": "stream",
     "text": [
      "tensor(2.1452)\n"
     ]
    }
   ],
   "source": [
    "#dev validation\n",
    "with torch.no_grad():\n",
    "    # ix = torch.randint(0,high = Xtr.shape[0],size=(batch_size,))\n",
    "    emb = C[Xdev]\n",
    "    preh = emb.view(-1,n_context*e_dim) @ W1 + b1\n",
    "    preh = bgain*(preh - bmeanrunning)/ bstdrunning + bbias\n",
    "    h =  torch.tanh(preh)\n",
    "    out = h @ W2 + b2\n",
    "    loss = F.cross_entropy(out,Ydev)\n",
    "    print(loss)"
   ]
  },
  {
   "cell_type": "code",
   "execution_count": 139,
   "id": "0f15e283-9e04-404b-9894-d310e38f4d2b",
   "metadata": {},
   "outputs": [
    {
     "name": "stdout",
     "output_type": "stream",
     "text": [
      "tensor(2.1593)\n"
     ]
    }
   ],
   "source": [
    "# test validation \n",
    "with torch.no_grad():\n",
    "    # ix = torch.randint(0,high = Xtr.shape[0],size=(batch_size,))\n",
    "    emb = C[Xtest]\n",
    "    preh = emb.view(-1,n_context*e_dim) @ W1 + b1\n",
    "    preh = bgain*(preh - bmeanrunning)/ bstdrunning + bbias\n",
    "    h =  torch.tanh(preh)\n",
    "    out = h @ W2 + b2\n",
    "    loss = F.cross_entropy(out,Ytest)\n",
    "    print(loss)"
   ]
  },
  {
   "cell_type": "code",
   "execution_count": 140,
   "id": "4d530df5-8f80-40b1-b386-5a54dcdea0ef",
   "metadata": {
    "editable": true,
    "slideshow": {
     "slide_type": ""
    },
    "tags": []
   },
   "outputs": [
    {
     "data": {
      "image/png": "[encoded data removed]",
      "text/plain": [
       "<Figure size 800x800 with 1 Axes>"
      ]
     },
     "metadata": {},
     "output_type": "display_data"
    }
   ],
   "source": [
    "plt.figure(figsize=(8,8))\n",
    "i=0\n",
    "C1 = C.cpu().detach().numpy()\n",
    "plt.scatter(C1[:,0],C1[:,1])\n",
    "for i in range(C.shape[0]):\n",
    "    plt.text(C[i,0].item(), C[i,1].item(), itos[i], ha=\"center\", va=\"center\", color='white')\n",
    "# plt.grid('minor')"
   ]
  },
  {
   "cell_type": "code",
   "execution_count": 141,
   "id": "26c43af5-2115-4aa2-8525-1ef203f697d4",
   "metadata": {},
   "outputs": [
    {
     "name": "stdout",
     "output_type": "stream",
     "text": [
      "dex\n",
      "maleah\n",
      "makilah\n",
      "tyha\n",
      "kolimitta\n",
      "nolla\n",
      "kama\n",
      "darrosiyah\n",
      "javhi\n",
      "gotti\n"
     ]
    }
   ],
   "source": [
    "\n",
    "\n",
    "g = torch.Generator().manual_seed(2147483647)\n",
    "\n",
    "for i in range(10):\n",
    "    #forward pass\n",
    "    out = []\n",
    "    context = [0] * n_context\n",
    "    while True:\n",
    "        emb = C[context]\n",
    "        preh = emb.view(1,-1) @ W1 + b1\n",
    "        preh = bgain*(preh - bmeanrunning)/ bstdrunning + bbias\n",
    "        h =  torch.tanh(preh)\n",
    "        logits= h @ W2 + b2\n",
    "        p = F.softmax(logits,dim=1)\n",
    "        ix = torch.multinomial(p,num_samples = 1, replacement = True,generator = g)\n",
    "        context = context[1:] + [ix.item()]\n",
    "        if ix.item() == 0:\n",
    "            break\n",
    "        out.append(itos[ix.item()])\n",
    "    print(\"\".join(out))"
   ]
  },
  {
   "cell_type": "markdown",
   "id": "fcf35a07-1b84-40d3-af37-6a3dcd4950ec",
   "metadata": {},
   "source": [
    "### Loss log\n",
    "without any optimization\n",
    "\n",
    "embedding dimension 2\n",
    "\n",
    "train loss 1.90\n",
    "\n",
    "dev loss 2.30\n",
    "\n",
    "embedding dimension 10\n",
    "\n",
    "train loss 1.95\n",
    "\n",
    "dev loss 2.12\n",
    "\n",
    "kamming init\n",
    "\n",
    "train loss 2.2\n",
    "\n",
    "dev loss 2.10\n",
    "\n",
    "\n",
    "batch norm9\n",
    "\n",
    "train loss 1.99\n",
    "dev loss 2.10"
   ]
  },
  {
   "cell_type": "code",
   "execution_count": 611,
   "id": "c0499319-ca42-4b49-9a93-82f499b65d3d",
   "metadata": {},
   "outputs": [],
   "source": [
    "class Linear(torch.nn.Module):\n",
    "    def __init__(self,nin,nout,bias=True):\n",
    "        super().__init__()\n",
    "        self.nin = nin\n",
    "        self.nout = nout\n",
    "        self.W1 = Parameter(torch.randn(nin, nout))\n",
    "        self.b1 = Parameter(torch.randn(nout)) if bias else None\n",
    "\n",
    "    \n",
    "    def forward(self,x):\n",
    "        self.out = x @ self.W1 * self.nin**-0.5\n",
    "        if self.b1 != None:\n",
    "            self.out = self.out + self.b1\n",
    "        return self.out\n",
    "\n",
    "    # def parameters(self):\n",
    "    #     self.parameters = [self.W1] + [self.b1] if self.b1!=None else [self.W1]\n",
    "    #     return self.parameters \n",
    "        \n",
    "class Flatten(torch.nn.Module):\n",
    "    def __init__(self):\n",
    "        super().__init__()\n",
    "\n",
    "    def forward(self,x):\n",
    "        if len(x.shape) > 2:\n",
    "            self.out = x.view(x.shape[0],-1)\n",
    "        else:\n",
    "            self.out = x.view(-1,x.shape[0]*x.shape[1])\n",
    "        return self.out\n",
    "        \n",
    "class Embedding(torch.nn.Module):\n",
    "    def __init__(self,vocab_size,edim):\n",
    "        super().__init__()\n",
    "        self.embedding = Parameter(torch.randn(vocab_size, edim))\n",
    "\n",
    "    def forward(self,x):\n",
    "        self.out = self.embedding[x]\n",
    "        return self.out\n",
    "\n",
    "    # def parameters(self):\n",
    "    #     self.parameters = [self.embedding]\n",
    "    #     return self.parameters\n",
    "\n",
    "class BatchNorm1d(torch.nn.Module):\n",
    "    def __init__(self,nout,alpha=0.001,eps=1e-05):\n",
    "        super().__init__()\n",
    "        self.nout = nout\n",
    "        self.bgain = Parameter(torch.ones(1,nout))\n",
    "        self.bbias = Parameter(torch.zeros(1,nout))\n",
    "        self.bstdrunning = torch.ones(1,nout)\n",
    "        self.bmeanrunning = torch.zeros(1,nout)\n",
    "        self.alpha = alpha\n",
    "        self.eps = eps\n",
    "        \n",
    "    def forward(self,x):\n",
    "        if(self.training):\n",
    "            bmeani = x.mean(0,keepdim=True)\n",
    "            bstdi = x.std(0,keepdim = True)\n",
    "            self.out = self.bgain*(x - bmeani)/ (bstdi + self.eps) + self.bbias\n",
    "            with torch.no_grad():\n",
    "                self.bmeanrunning = self.alpha * self.bmeanrunning + (1 - self.alpha)* bmeani\n",
    "                self.bstdrunning = self.alpha * bstdrunning + (1 - self.alpha) * bstdi\n",
    "        else:\n",
    "            self.out = self.bgain*(x - self.bmeanrunning)/ (self.bstdrunning + self.eps) + self.bbias\n",
    "\n",
    "        return self.out\n",
    "   \n",
    "    # def parameters(self):\n",
    "    #     self.parameters = [self.bgain,self.bbias]\n",
    "    #     return self.parameters\n",
    "\n",
    "class Tanh1(torch.nn.Module):\n",
    "    def __init__(self):\n",
    "        super().__init__()\n",
    "\n",
    "    def forward(self,x):\n",
    "        self.out = F.tanh(x)\n",
    "        return self.out\n",
    "@torch.no_grad()\n",
    "def evaluate(X,Y,model):\n",
    "    model.eval()\n",
    "    out = model(X)\n",
    "    loss = F.cross_entropy(out,Y)\n",
    "    return out,loss\n",
    "\n",
    "@torch.no_grad()\n",
    "def generate(n_words,model):\n",
    "    model.eval()\n",
    "    for i in range(10):\n",
    "        #forward pass\n",
    "        out = []\n",
    "        context = [0] * n_context\n",
    "        while True:\n",
    "            logits= model([context])\n",
    "            p = F.softmax(logits,dim=1)\n",
    "            ix = torch.multinomial(p,num_samples = 1, replacement = True,generator = g)\n",
    "            context = context[1:] + [ix.item()]\n",
    "            if ix.item() == 0:\n",
    "                break\n",
    "            out.append(itos[ix.item()])\n",
    "        print(\"\".join(out))\n"
   ]
  },
  {
   "cell_type": "code",
   "execution_count": 612,
   "id": "e3becdfc-ef0c-4ccd-bbce-684f856a967e",
   "metadata": {},
   "outputs": [],
   "source": [
    "Model =  Sequential(\n",
    "    Embedding(len(vocab),e_dim),\n",
    "    Flatten(),\n",
    "    Linear(n_context*e_dim,h_dim,False),BatchNorm1d(h_dim),Tanh1(),\n",
    "    Linear(h_dim,h_dim,False),BatchNorm1d(h_dim),Tanh1(),\n",
    "    Linear(h_dim,h_dim,False),BatchNorm1d(h_dim),Tanh1(),\n",
    "    Linear(h_dim,len(vocab),False)\n",
    "    \n",
    ")"
   ]
  },
  {
   "cell_type": "code",
   "execution_count": 613,
   "id": "2f5c3fbb-ca5b-4cb6-8cab-be36104b9b6b",
   "metadata": {},
   "outputs": [
    {
     "name": "stdout",
     "output_type": "stream",
     "text": [
      "loss at 0/200000 3.5371\n",
      "loss at 10000/200000 2.3678\n",
      "loss at 20000/200000 2.3162\n",
      "loss at 30000/200000 2.4378\n",
      "loss at 40000/200000 2.1149\n",
      "loss at 50000/200000 2.2281\n",
      "loss at 60000/200000 2.3259\n",
      "loss at 70000/200000 1.8984\n",
      "loss at 80000/200000 2.4156\n",
      "loss at 90000/200000 2.9267\n",
      "loss at 100000/200000 1.9334\n",
      "loss at 110000/200000 2.3678\n",
      "loss at 120000/200000 2.5791\n",
      "loss at 130000/200000 2.0822\n",
      "loss at 140000/200000 2.1775\n",
      "loss at 150000/200000 2.0719\n",
      "loss at 160000/200000 1.6968\n",
      "loss at 170000/200000 2.1034\n",
      "loss at 180000/200000 1.9659\n",
      "loss at 190000/200000 2.2665\n",
      "Mins taken: -1255.5201861461003\n",
      " Final loss: 1.9484\n"
     ]
    }
   ],
   "source": [
    "batch_size = 32\n",
    "lrsloss = []\n",
    "\n",
    "for i in range(200000):\n",
    "    #forward pass\n",
    "    lr = 0.1 if i <100000 else 0.01\n",
    "    Model.train()\n",
    "    # optimizer = torch.optim.SGD(Model.parameters(), lr=lr)\n",
    "    ix = torch.randint(0,high = Xtr.shape[0],size=(batch_size,))\n",
    "    out= Model.forward(Xtr[ix])\n",
    "    loss = F.cross_entropy(out,Ytr[ix])\n",
    "    lossi.append(loss.item())\n",
    "    if i % 10000 == 0:\n",
    "        print(F\"loss at {i}/200000 {loss.item():.4f}\")\n",
    "    #backpass\n",
    "    for p in Model.parameters():\n",
    "        p.grad = None\n",
    "    loss.backward()\n",
    "    for p in Model.parameters():\n",
    "        p.data += -lr*p.grad\n",
    "    \n",
    "\n",
    "print(F\"Mins taken: {(t - time.time())/60}\")\n",
    "print(F\" Final loss: {loss.item():.4f}\")"
   ]
  },
  {
   "cell_type": "code",
   "execution_count": 616,
   "id": "0f9675dd-023b-468f-b58c-f79ca71cf472",
   "metadata": {},
   "outputs": [
    {
     "data": {
      "text/plain": [
       "(tensor([[-3.4023,  1.7338,  0.6192,  ..., -1.5849, -0.3541,  0.3746],\n",
       "         [-1.6140,  4.6704, -0.6843,  ..., -3.0855,  2.6624, -1.5387],\n",
       "         [-2.0594,  0.6820, -0.4902,  ..., -1.2629,  1.1100, -0.2530],\n",
       "         ...,\n",
       "         [ 3.5408,  2.2174, -1.3823,  ..., -2.1321,  0.9278, -0.4502],\n",
       "         [ 2.1153,  2.0346, -0.9909,  ..., -0.8924,  1.6714, -0.8943],\n",
       "         [ 4.1334,  3.8285, -1.1772,  ..., -0.8146,  1.6442, -1.9235]]),\n",
       " tensor(2.1870))"
      ]
     },
     "execution_count": 616,
     "metadata": {},
     "output_type": "execute_result"
    }
   ],
   "source": [
    "evaluate(Xdev,Ydev,Model)"
   ]
  },
  {
   "cell_type": "code",
   "execution_count": 617,
   "id": "580ec5e2-cd3d-466a-a12b-69e47a61b4d0",
   "metadata": {},
   "outputs": [
    {
     "name": "stdout",
     "output_type": "stream",
     "text": [
      "declaxtie\n",
      "khameda\n",
      "zyla\n",
      "erzelra\n",
      "bryutiah\n",
      "brik\n",
      "alkismenachentorah\n",
      "lie\n",
      "madonamnef\n",
      "mike\n"
     ]
    }
   ],
   "source": [
    "generate(10,Model)"
   ]
  },
  {
   "cell_type": "code",
   "execution_count": 629,
   "id": "f6e3ace2-5f23-4a89-b365-d50d4e21e392",
   "metadata": {},
   "outputs": [
    {
     "ename": "AttributeError",
     "evalue": "'Sequential' object has no attribute 'nelement'",
     "output_type": "error",
     "traceback": [
      "\u001b[0;31m---------------------------------------------------------------------------\u001b[0m",
      "\u001b[0;31mAttributeError\u001b[0m                            Traceback (most recent call last)",
      "Cell \u001b[0;32mIn[629], line 1\u001b[0m\n\u001b[0;32m----> 1\u001b[0m \u001b[43mModel\u001b[49m\u001b[38;5;241;43m.\u001b[39;49m\u001b[43mnelement\u001b[49m()\n",
      "File \u001b[0;32m~/anaconda3/envs/deeplearning/lib/python3.11/site-packages/torch/nn/modules/module.py:1688\u001b[0m, in \u001b[0;36mModule.__getattr__\u001b[0;34m(self, name)\u001b[0m\n\u001b[1;32m   1686\u001b[0m     \u001b[38;5;28;01mif\u001b[39;00m name \u001b[38;5;129;01min\u001b[39;00m modules:\n\u001b[1;32m   1687\u001b[0m         \u001b[38;5;28;01mreturn\u001b[39;00m modules[name]\n\u001b[0;32m-> 1688\u001b[0m \u001b[38;5;28;01mraise\u001b[39;00m \u001b[38;5;167;01mAttributeError\u001b[39;00m(\u001b[38;5;124mf\u001b[39m\u001b[38;5;124m\"\u001b[39m\u001b[38;5;124m'\u001b[39m\u001b[38;5;132;01m{\u001b[39;00m\u001b[38;5;28mtype\u001b[39m(\u001b[38;5;28mself\u001b[39m)\u001b[38;5;241m.\u001b[39m\u001b[38;5;18m__name__\u001b[39m\u001b[38;5;132;01m}\u001b[39;00m\u001b[38;5;124m'\u001b[39m\u001b[38;5;124m object has no attribute \u001b[39m\u001b[38;5;124m'\u001b[39m\u001b[38;5;132;01m{\u001b[39;00mname\u001b[38;5;132;01m}\u001b[39;00m\u001b[38;5;124m'\u001b[39m\u001b[38;5;124m\"\u001b[39m)\n",
      "\u001b[0;31mAttributeError\u001b[0m: 'Sequential' object has no attribute 'nelement'"
     ]
    }
   ],
   "source": [
    "Model.nelement()"
   ]
  },
  {
   "cell_type": "code",
   "execution_count": 649,
   "id": "bb4b9b3c-b6a0-4db8-b78f-714b3f3003c9",
   "metadata": {},
   "outputs": [
    {
     "data": {
      "text/plain": [
       "torch.return_types.max(\n",
       "values=tensor([5, 5, 5, 6]),\n",
       "indices=tensor([1, 0, 2, 2]))"
      ]
     },
     "execution_count": 649,
     "metadata": {},
     "output_type": "execute_result"
    }
   ],
   "source": [
    "torch.tensor([[1,5,3,4],[5,2,3,4],[1,2,5,6]]).max(0)"
   ]
  },
  {
   "cell_type": "code",
   "execution_count": null,
   "id": "ac58dec4-7cb6-44ff-ab21-f04e47390a91",
   "metadata": {},
   "outputs": [],
   "source": []
  }
 ],
 "metadata": {
  "kernelspec": {
   "display_name": "Python 3 (ipykernel)",
   "language": "python",
   "name": "python3"
  },
  "language_info": {
   "codemirror_mode": {
    "name": "ipython",
    "version": 3
   },
   "file_extension": ".py",
   "mimetype": "text/x-python",
   "name": "python",
   "nbconvert_exporter": "python",
   "pygments_lexer": "ipython3",
   "version": "3.11.7"
  }
 },
 "nbformat": 4,
 "nbformat_minor": 5
}
