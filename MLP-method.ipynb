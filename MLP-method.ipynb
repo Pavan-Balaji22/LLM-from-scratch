{
 "cells": [
  {
   "cell_type": "code",
   "execution_count": 14,
   "id": "e9f00160-e74b-40fa-abe3-ee2a7f54ce6b",
   "metadata": {},
   "outputs": [],
   "source": [
    "import pandas as pd\n",
    "import numpy as np\n",
    "import matplotlib.pyplot as plt\n",
    "import torch\n",
    "import time\n",
    "from torch.nn import functional as F\n",
    "from torch.nn import Sequential, Tanh, Parameter\n",
    "import mlflow as mlflow\n",
    "%matplotlib inline"
   ]
  },
  {
   "cell_type": "code",
   "execution_count": 15,
   "id": "a35f4c3e-bd6c-47b1-86df-5489c667a1ad",
   "metadata": {},
   "outputs": [
    {
     "data": {
      "text/plain": [
       "True"
      ]
     },
     "execution_count": 15,
     "metadata": {},
     "output_type": "execute_result"
    }
   ],
   "source": [
    "torch.backends.mps.is_available()"
   ]
  },
  {
   "cell_type": "code",
   "execution_count": 16,
   "id": "f9825deb-36c9-4d18-876d-fd634ae86d9e",
   "metadata": {},
   "outputs": [
    {
     "data": {
      "text/plain": [
       "['emma', 'olivia', 'ava', 'isabella', 'sophia']"
      ]
     },
     "execution_count": 16,
     "metadata": {},
     "output_type": "execute_result"
    }
   ],
   "source": [
    "names = open(\"../datasets/llm/names.txt\",mode=\"r\",encoding=\"utf8\").read().splitlines()\n",
    "names[:5]"
   ]
  },
  {
   "cell_type": "code",
   "execution_count": 17,
   "id": "ef90e534-3433-4b13-9e81-228aef858f02",
   "metadata": {},
   "outputs": [],
   "source": [
    "vocab = \"\".join(sorted(set(x for word in names+[\".\"] for x in word))) # building vocab"
   ]
  },
  {
   "cell_type": "code",
   "execution_count": 18,
   "id": "4f8e56f2-a251-4a64-ba6e-5c6279133a78",
   "metadata": {},
   "outputs": [
    {
     "data": {
      "text/plain": [
       "27"
      ]
     },
     "execution_count": 18,
     "metadata": {},
     "output_type": "execute_result"
    }
   ],
   "source": [
    "len(vocab)"
   ]
  },
  {
   "cell_type": "code",
   "execution_count": 19,
   "id": "8dfd99f7-ee67-420a-9be5-dcca3a55ddcd",
   "metadata": {},
   "outputs": [],
   "source": [
    "stoi = {k:v for v,k in enumerate(vocab)}\n",
    "itos = {v:k for v,k in enumerate(vocab)}"
   ]
  },
  {
   "cell_type": "code",
   "execution_count": 20,
   "id": "3ac49fde-7582-4296-9545-dbef8bc6df99",
   "metadata": {
    "scrolled": true
   },
   "outputs": [
    {
     "name": "stdout",
     "output_type": "stream",
     "text": [
      "torch.Size([182455, 8]) torch.Size([182455])\n",
      "torch.Size([22843, 8]) torch.Size([22843])\n",
      "torch.Size([22848, 8]) torch.Size([22848])\n"
     ]
    }
   ],
   "source": [
    "torch.set_default_device(\"cpu\")\n",
    "def build_dataset(data, n_context):\n",
    "    xs = []\n",
    "    ys = []\n",
    "    \n",
    "    for x in data:\n",
    "        context = [0]* n_context\n",
    "        for ch in x + \".\":\n",
    "            # print(f\"{context} {stoi[ch]}\")\n",
    "            ix = stoi[ch]\n",
    "            xs.append(context)\n",
    "            ys.append(ix)\n",
    "            context = context[1:]+[ix]\n",
    "    xs = torch.tensor(xs)\n",
    "    ys = torch.tensor(ys)\n",
    "    print(xs.shape,ys.shape)\n",
    "    return xs,ys\n",
    "\n",
    "np.random.shuffle(names)\n",
    "\n",
    "data_size =  len(names)\n",
    "n_context = 8\n",
    "train_data = names[:int(data_size * .8)]\n",
    "dev_data = names[int(data_size * .8):int(data_size * .9)]\n",
    "test_data = names[int(data_size * .9):]\n",
    "\n",
    "Xtr,Ytr = build_dataset(train_data,n_context) \n",
    "Xdev,Ydev = build_dataset(dev_data,n_context)\n",
    "Xtest,Ytest = build_dataset(test_data,n_context)"
   ]
  },
  {
   "cell_type": "code",
   "execution_count": 21,
   "id": "77d6fe41-ef15-4998-b98f-a05ebd6f95b8",
   "metadata": {},
   "outputs": [
    {
     "data": {
      "text/plain": [
       "tensor([[ 0,  0,  0,  ...,  0,  0,  0],\n",
       "        [ 0,  0,  0,  ...,  0,  0,  1],\n",
       "        [ 0,  0,  0,  ...,  0,  1, 21],\n",
       "        ...,\n",
       "        [ 0,  0,  0,  ...,  9, 18,  9],\n",
       "        [ 0,  0,  0,  ..., 18,  9, 21],\n",
       "        [ 0,  0, 19,  ...,  9, 21, 19]])"
      ]
     },
     "execution_count": 21,
     "metadata": {},
     "output_type": "execute_result"
    }
   ],
   "source": [
    "Xtr"
   ]
  },
  {
   "cell_type": "code",
   "execution_count": 22,
   "id": "169b11c7-3f0e-4b17-a3d7-81ed768fbe04",
   "metadata": {},
   "outputs": [],
   "source": [
    "e_dim = 10\n",
    "h_dim = 200\n",
    "g = torch.Generator().manual_seed(2147483647)\n",
    "C = torch.randn(len(vocab), e_dim, generator=g) # character embeddings with dimension of e_dim\n",
    "W1 = torch.randn(n_context*e_dim, h_dim, generator=g) #* (5/3) /((e_dim * n_context)**0.5) # kammit init\n",
    "b1 = torch.randn(h_dim, generator=g) * 0.01\n",
    "W2 = torch.randn(h_dim,len(vocab), generator=g) * 0.01\n",
    "b2 = torch.randn(len(vocab), generator=g) * 0\n",
    "\n",
    "#Batch Norm pparameters\n",
    "bgain = torch.ones((1,h_dim))\n",
    "bbias = torch.zeros((1,h_dim))\n",
    "bmeanrunning = torch.zeros((1,h_dim))\n",
    "bstdrunning = torch.ones((1,h_dim))\n",
    "alpha = 0.999\n",
    "eps = 1e-5\n",
    "\n",
    "parameters = [C,W1,b1,W2,b2,bgain,bbias]"
   ]
  },
  {
   "cell_type": "code",
   "execution_count": 23,
   "id": "33803c6c-c7cc-4450-8b0b-5132559a8491",
   "metadata": {},
   "outputs": [],
   "source": [
    "lrs = torch.linspace(-3,1,20)\n",
    "loglrs = 10**lrs"
   ]
  },
  {
   "cell_type": "code",
   "execution_count": 24,
   "id": "bcac3442-c65a-47a6-9b81-0892d388184f",
   "metadata": {},
   "outputs": [],
   "source": [
    "lossi = []\n",
    "rsloss = []"
   ]
  },
  {
   "cell_type": "code",
   "execution_count": 25,
   "id": "d174aee6-0d27-4052-acf7-3695b51b75a3",
   "metadata": {},
   "outputs": [
    {
     "data": {
      "text/plain": [
       "22297"
      ]
     },
     "execution_count": 25,
     "metadata": {},
     "output_type": "execute_result"
    }
   ],
   "source": [
    "sum( p.nelement() for p in parameters)"
   ]
  },
  {
   "cell_type": "code",
   "execution_count": 26,
   "id": "11ba50ac-5566-48d9-a51f-7050f024cf75",
   "metadata": {},
   "outputs": [],
   "source": [
    "for p in parameters:\n",
    "    p.requires_grad = True"
   ]
  },
  {
   "cell_type": "code",
   "execution_count": 27,
   "id": "5b06d304-c101-4798-b1ad-787df43d0adb",
   "metadata": {},
   "outputs": [
    {
     "name": "stdout",
     "output_type": "stream",
     "text": [
      "loss at 0/200000 3.3278\n",
      "loss at 10000/200000 2.3650\n",
      "loss at 20000/200000 2.1976\n",
      "loss at 30000/200000 2.3111\n",
      "loss at 40000/200000 2.2568\n",
      "loss at 50000/200000 2.5404\n",
      "loss at 60000/200000 2.1509\n",
      "loss at 70000/200000 2.0810\n",
      "loss at 80000/200000 2.2902\n",
      "loss at 90000/200000 1.9292\n",
      "loss at 100000/200000 2.0163\n",
      "loss at 110000/200000 2.1714\n",
      "loss at 120000/200000 2.2342\n",
      "loss at 130000/200000 1.9031\n",
      "loss at 140000/200000 1.9786\n",
      "loss at 150000/200000 2.1432\n",
      "loss at 160000/200000 2.1003\n",
      "loss at 170000/200000 2.1394\n",
      "loss at 180000/200000 2.1117\n",
      "loss at 190000/200000 2.4314\n",
      "Mins taken: -2.4249257524808248\n",
      " Final loss: 2.1135\n"
     ]
    }
   ],
   "source": [
    "\n",
    "t = time.time()\n",
    "batch_size = 32\n",
    "lrsloss = []\n",
    "for i in range(200000):\n",
    "    #forward pass\n",
    "    ix = torch.randint(0,high = Xtr.shape[0],size=(batch_size,))\n",
    "    emb = C[Xtr[ix]]\n",
    "    preh = emb.view(-1,n_context*e_dim) @ W1 + b1\n",
    "    bmeani = preh.mean(0,keepdim=True)\n",
    "    bstdi = preh.std(0,keepdim = True)\n",
    "    preh = bgain*(preh - bmeani)/ (bstdi + eps) + bbias\n",
    "    with torch.no_grad():\n",
    "        bmeanrunning = alpha * bmeanrunning + (1 - alpha)* bmeani\n",
    "        bstdrunning = alpha * bstdrunning + (1 - alpha) * bstdi\n",
    "        \n",
    "    h =  torch.tanh(preh)\n",
    "    out = h @ W2 + b2\n",
    "    loss = F.cross_entropy(out,Ytr[ix])\n",
    "    lossi.append(loss.log10().item())\n",
    "    if i % 10000 == 0:\n",
    "        print(F\"loss at {i}/200000 {loss.item():.4f}\")\n",
    "    for p in parameters:\n",
    "        p.grad = None \n",
    "    #backpass\n",
    "    loss.backward()\n",
    "    \n",
    "    #update\n",
    "    lr = 0.1 if i <100000 else 0.01\n",
    "    for p in parameters:\n",
    "        p.data += -lr*p.grad\n",
    "print(F\"Mins taken: {(t - time.time())/60}\")\n",
    "print(F\" Final loss: {loss.item():.4f}\")\n"
   ]
  },
  {
   "cell_type": "code",
   "execution_count": 28,
   "id": "27367689-99fa-4d4b-beee-6f1393e6b9ea",
   "metadata": {},
   "outputs": [
    {
     "data": {
      "text/plain": [
       "[<matplotlib.lines.Line2D at 0x11db6b750>]"
      ]
     },
     "execution_count": 28,
     "metadata": {},
     "output_type": "execute_result"
    },
    {
     "data": {
      "image/png": "[encoded data removed]",
      "text/plain": [
       "<Figure size 640x480 with 1 Axes>"
      ]
     },
     "metadata": {},
     "output_type": "display_data"
    }
   ],
   "source": [
    "plt.plot(torch.tensor(lossi).view(-1,1000).mean(1))"
   ]
  },
  {
   "cell_type": "code",
   "execution_count": 29,
   "id": "8e2a1ab7-6859-4e3f-9d38-e3abb80add70",
   "metadata": {},
   "outputs": [
    {
     "data": {
      "image/png": "[encoded data removed]",
      "text/plain": [
       "<Figure size 640x480 with 1 Axes>"
      ]
     },
     "metadata": {},
     "output_type": "display_data"
    }
   ],
   "source": [
    "plt.hist(h.view(-1).data,bins=50)\n",
    "plt.show()"
   ]
  },
  {
   "cell_type": "code",
   "execution_count": 30,
   "id": "d6f86c03-10e5-4582-af6e-ee06d37b024c",
   "metadata": {},
   "outputs": [
    {
     "data": {
      "image/png": "[encoded data removed]",
      "text/plain": [
       "<Figure size 640x480 with 1 Axes>"
      ]
     },
     "metadata": {},
     "output_type": "display_data"
    }
   ],
   "source": [
    "plt.hist(preh.view(-1).data,bins=50)\n",
    "plt.show()"
   ]
  },
  {
   "cell_type": "code",
   "execution_count": 31,
   "id": "2c1e99f3-640d-48e2-9152-2fbc37f5515f",
   "metadata": {
    "scrolled": true
   },
   "outputs": [
    {
     "data": {
      "image/png": "[encoded data removed]",
      "text/plain": [
       "<Figure size 800x800 with 1 Axes>"
      ]
     },
     "metadata": {},
     "output_type": "display_data"
    }
   ],
   "source": [
    "plt.figure(figsize=(8,8))\n",
    "plt.imshow(h.abs() > .99,cmap=\"grey\",interpolation=\"nearest\");"
   ]
  },
  {
   "cell_type": "code",
   "execution_count": 32,
   "id": "7675f905-31d1-421d-9f3f-3b4beb54af1f",
   "metadata": {},
   "outputs": [],
   "source": [
    "with torch.no_grad():\n",
    "    emb = C[Xtr]\n",
    "    preh = emb.view(-1,n_context*e_dim) @ W1 + b1\n",
    "    bmean = preh.mean(0,keepdim=True)\n",
    "    bstd = preh.std(0,keepdim = True)\n",
    "    "
   ]
  },
  {
   "cell_type": "code",
   "execution_count": 33,
   "id": "e7e6790d-2e5c-4d5f-baa5-02ad6862236d",
   "metadata": {},
   "outputs": [
    {
     "name": "stdout",
     "output_type": "stream",
     "text": [
      "tensor(2.1278)\n"
     ]
    }
   ],
   "source": [
    "#dev validation\n",
    "with torch.no_grad():\n",
    "    # ix = torch.randint(0,high = Xtr.shape[0],size=(batch_size,))\n",
    "    emb = C[Xdev]\n",
    "    preh = emb.view(-1,n_context*e_dim) @ W1 + b1\n",
    "    preh = bgain*(preh - bmeanrunning)/ bstdrunning + bbias\n",
    "    h =  torch.tanh(preh)\n",
    "    out = h @ W2 + b2\n",
    "    loss = F.cross_entropy(out,Ydev)\n",
    "    print(loss)"
   ]
  },
  {
   "cell_type": "code",
   "execution_count": 34,
   "id": "0f15e283-9e04-404b-9894-d310e38f4d2b",
   "metadata": {},
   "outputs": [
    {
     "name": "stdout",
     "output_type": "stream",
     "text": [
      "tensor(2.1101)\n"
     ]
    }
   ],
   "source": [
    "# test validation \n",
    "with torch.no_grad():\n",
    "    # ix = torch.randint(0,high = Xtr.shape[0],size=(batch_size,))\n",
    "    emb = C[Xtest]\n",
    "    preh = emb.view(-1,n_context*e_dim) @ W1 + b1\n",
    "    preh = bgain*(preh - bmeanrunning)/ bstdrunning + bbias\n",
    "    h =  torch.tanh(preh)\n",
    "    out = h @ W2 + b2\n",
    "    loss = F.cross_entropy(out,Ytest)\n",
    "    print(loss)"
   ]
  },
  {
   "cell_type": "code",
   "execution_count": 35,
   "id": "4d530df5-8f80-40b1-b386-5a54dcdea0ef",
   "metadata": {
    "editable": true,
    "slideshow": {
     "slide_type": ""
    },
    "tags": []
   },
   "outputs": [
    {
     "data": {
      "image/png": "[encoded data removed]",
      "text/plain": [
       "<Figure size 800x800 with 1 Axes>"
      ]
     },
     "metadata": {},
     "output_type": "display_data"
    }
   ],
   "source": [
    "plt.figure(figsize=(8,8))\n",
    "i=0\n",
    "C1 = C.cpu().detach().numpy()\n",
    "plt.scatter(C1[:,0],C1[:,1])\n",
    "for i in range(C.shape[0]):\n",
    "    plt.text(C[i,0].item(), C[i,1].item(), itos[i], ha=\"center\", va=\"center\", color='white')\n",
    "# plt.grid('minor')"
   ]
  },
  {
   "cell_type": "code",
   "execution_count": 36,
   "id": "26c43af5-2115-4aa2-8525-1ef203f697d4",
   "metadata": {},
   "outputs": [
    {
     "name": "stdout",
     "output_type": "stream",
     "text": [
      "cexzer\n",
      "jallus\n",
      "ilazi\n",
      "aharion\n",
      "mittain\n",
      "lucan\n",
      "kaida\n",
      "samiyah\n",
      "javer\n",
      "gotai\n"
     ]
    }
   ],
   "source": [
    "\n",
    "\n",
    "g = torch.Generator().manual_seed(2147483647)\n",
    "\n",
    "for i in range(10):\n",
    "    #forward pass\n",
    "    out = []\n",
    "    context = [0] * n_context\n",
    "    while True:\n",
    "        emb = C[context]\n",
    "        preh = emb.view(1,-1) @ W1 + b1\n",
    "        preh = bgain*(preh - bmeanrunning)/ bstdrunning + bbias\n",
    "        h =  torch.tanh(preh)\n",
    "        logits= h @ W2 + b2\n",
    "        p = F.softmax(logits,dim=1)\n",
    "        ix = torch.multinomial(p,num_samples = 1, replacement = True,generator = g)\n",
    "        context = context[1:] + [ix.item()]\n",
    "        if ix.item() == 0:\n",
    "            break\n",
    "        out.append(itos[ix.item()])\n",
    "    print(\"\".join(out))"
   ]
  },
  {
   "cell_type": "markdown",
   "id": "fcf35a07-1b84-40d3-af37-6a3dcd4950ec",
   "metadata": {},
   "source": [
    "### Loss log\n",
    "without any optimization\n",
    "\n",
    "embedding dimension 2\n",
    "\n",
    "train loss 1.90\n",
    "\n",
    "dev loss 2.30\n",
    "\n",
    "embedding dimension 10\n",
    "\n",
    "train loss 1.95\n",
    "\n",
    "dev loss 2.12\n",
    "\n",
    "kamming init\n",
    "\n",
    "train loss 2.2\n",
    "\n",
    "dev loss 2.10\n",
    "\n",
    "\n",
    "batch norm9\n",
    "\n",
    "train loss 1.99\n",
    "dev loss 2.10"
   ]
  },
  {
   "cell_type": "code",
   "execution_count": null,
   "id": "c0499319-ca42-4b49-9a93-82f499b65d3d",
   "metadata": {},
   "outputs": [],
   "source": [
    "class Linear(torch.nn.Module):\n",
    "    def __init__(self,nin,nout,bias=True):\n",
    "        super().__init__()\n",
    "        self.nin = nin\n",
    "        self.nout = nout\n",
    "        self.W1 = Parameter(torch.randn(nin, nout))\n",
    "        self.b1 = Parameter(torch.randn(nout)) if bias else None\n",
    "\n",
    "    \n",
    "    def forward(self,x):\n",
    "        self.out = x @ self.W1 * self.nin**-0.5\n",
    "        if self.b1 != None:\n",
    "            self.out = self.out + self.b1\n",
    "        return self.out\n",
    "        \n",
    "class Flatten(torch.nn.Module):\n",
    "    def __init__(self):\n",
    "        super().__init__()\n",
    "\n",
    "    def forward(self,x):\n",
    "        if len(x.shape) > 2:\n",
    "            self.out = x.view(x.shape[0],-1)\n",
    "        else:\n",
    "            self.out = x.view(-1,x.shape[0]*x.shape[1])\n",
    "        return self.out\n",
    "        \n",
    "class Embedding(torch.nn.Module):\n",
    "    def __init__(self,vocab_size,edim):\n",
    "        super().__init__()\n",
    "        self.embedding = Parameter(torch.randn(vocab_size, edim))\n",
    "\n",
    "    def forward(self,x):\n",
    "        self.out = self.embedding[x]\n",
    "        return self.out\n",
    "\n",
    "class BatchNorm1d(torch.nn.Module):\n",
    "    def __init__(self,nout,alpha=0.001,eps=1e-05):\n",
    "        super().__init__()\n",
    "        self.nout = nout\n",
    "        self.bgain = Parameter(torch.ones(1,nout))\n",
    "        self.bbias = Parameter(torch.zeros(1,nout))\n",
    "        self.bstdrunning = torch.ones(1,nout)\n",
    "        self.bmeanrunning = torch.zeros(1,nout)\n",
    "        self.alpha = alpha\n",
    "        self.eps = eps\n",
    "        \n",
    "    def forward(self,x):\n",
    "        if(self.training):\n",
    "            bmeani = x.mean(0,keepdim=True)\n",
    "            bstdi = x.std(0,keepdim = True)\n",
    "            self.out = self.bgain*(x - bmeani)/ (bstdi + self.eps) + self.bbias\n",
    "            with torch.no_grad():\n",
    "                self.bmeanrunning = self.alpha * self.bmeanrunning + (1 - self.alpha)* bmeani\n",
    "                self.bstdrunning = self.alpha * bstdrunning + (1 - self.alpha) * bstdi\n",
    "        else:\n",
    "            self.out = self.bgain*(x - self.bmeanrunning)/ (self.bstdrunning + self.eps) + self.bbias\n",
    "\n",
    "        return self.out\n",
    "    \n",
    "class Tanh1(torch.nn.Module):\n",
    "    def __init__(self):\n",
    "        super().__init__()\n",
    "\n",
    "    def forward(self,x):\n",
    "        self.out = F.tanh(x)\n",
    "        return self.out\n",
    "    \n",
    "@torch.no_grad()\n",
    "def evaluate(X,Y,model):\n",
    "    model.eval()\n",
    "    out = model(X)\n",
    "    loss = F.cross_entropy(out,Y)\n",
    "    return out,loss\n",
    "\n",
    "@torch.no_grad()\n",
    "def generate(n_words,model):\n",
    "    model.eval()\n",
    "    for i in range(10):\n",
    "        #forward pass\n",
    "        out = []\n",
    "        context = [0] * n_context\n",
    "        while True:\n",
    "            logits= model([context])\n",
    "            p = F.softmax(logits,dim=1)\n",
    "            ix = torch.multinomial(p,num_samples = 1, replacement = True,generator = g)\n",
    "            context = context[1:] + [ix.item()]\n",
    "            if ix.item() == 0:\n",
    "                break\n",
    "            out.append(itos[ix.item()])\n",
    "        print(\"\".join(out))\n"
   ]
  },
  {
   "cell_type": "code",
   "execution_count": 38,
   "id": "e3becdfc-ef0c-4ccd-bbce-684f856a967e",
   "metadata": {},
   "outputs": [],
   "source": [
    "Model =  Sequential(\n",
    "    Embedding(len(vocab),e_dim),\n",
    "    Flatten(),Linear(n_context*e_dim,h_dim,False),BatchNorm1d(h_dim),Tanh1(),\n",
    "    Linear(h_dim,h_dim,False),BatchNorm1d(h_dim),Tanh1(),\n",
    "    Linear(h_dim,h_dim,False),BatchNorm1d(h_dim),Tanh1(),\n",
    "    Linear(h_dim,len(vocab),False)\n",
    ")"
   ]
  },
  {
   "cell_type": "code",
   "execution_count": 39,
   "id": "2f5c3fbb-ca5b-4cb6-8cab-be36104b9b6b",
   "metadata": {},
   "outputs": [
    {
     "name": "stdout",
     "output_type": "stream",
     "text": [
      "loss at 0/200000 3.4514\n",
      "loss at 10000/200000 2.6784\n",
      "loss at 20000/200000 2.4457\n",
      "loss at 30000/200000 2.2516\n",
      "loss at 40000/200000 2.1329\n",
      "loss at 50000/200000 1.7274\n",
      "loss at 60000/200000 1.7846\n",
      "loss at 70000/200000 2.1583\n",
      "loss at 80000/200000 1.8272\n",
      "loss at 90000/200000 2.0806\n",
      "loss at 100000/200000 2.2159\n",
      "loss at 110000/200000 2.1722\n",
      "loss at 120000/200000 2.4045\n",
      "loss at 130000/200000 2.0492\n",
      "loss at 140000/200000 1.7555\n",
      "loss at 150000/200000 2.4836\n",
      "loss at 160000/200000 1.9377\n",
      "loss at 170000/200000 2.4876\n",
      "loss at 180000/200000 2.1197\n",
      "loss at 190000/200000 2.6818\n",
      "Mins taken: -8.789285318056743\n",
      " Final loss: 2.1602\n"
     ]
    }
   ],
   "source": [
    "batch_size = 32\n",
    "lrsloss = []\n",
    "\n",
    "for i in range(200000):\n",
    "    #forward pass\n",
    "    lr = 0.1 if i <100000 else 0.01\n",
    "    Model.train()\n",
    "    # optimizer = torch.optim.SGD(Model.parameters(), lr=lr)\n",
    "    ix = torch.randint(0,high = Xtr.shape[0],size=(batch_size,))\n",
    "    out= Model.forward(Xtr[ix])\n",
    "    loss = F.cross_entropy(out,Ytr[ix])\n",
    "    # lossi.append(loss.log10().item())\n",
    "    if i % 10000 == 0:\n",
    "        print(F\"loss at {i}/200000 {loss.item():.4f}\")\n",
    "    #backpass\n",
    "    for p in Model.parameters():\n",
    "        p.grad = None\n",
    "    loss.backward(retain_graph=True)\n",
    "    for p in Model.parameters():\n",
    "        p.data += -lr*p.grad\n",
    "    \n",
    "\n",
    "print(F\"Mins taken: {(t - time.time())/60}\")\n",
    "print(F\" Final loss: {loss.item():.4f}\")"
   ]
  },
  {
   "cell_type": "code",
   "execution_count": 40,
   "id": "0f9675dd-023b-468f-b58c-f79ca71cf472",
   "metadata": {},
   "outputs": [
    {
     "data": {
      "text/plain": [
       "(tensor([[-3.3585,  1.9908,  0.6410,  ..., -1.8665, -0.1362,  0.1287],\n",
       "         [-0.6157,  5.6862, -1.5401,  ..., -3.0682,  1.8682, -1.2732],\n",
       "         [-2.7360,  0.0895, -0.1963,  ..., -0.5404,  2.2197, -0.2778],\n",
       "         ...,\n",
       "         [-0.0327,  3.4106, -1.3364,  ..., -2.0848,  1.7270, -1.2380],\n",
       "         [ 2.2282,  1.8130,  0.7700,  ..., -2.4327,  0.2649, -0.8610],\n",
       "         [ 4.8155,  2.8757, -0.7487,  ..., -3.2834,  1.2819, -0.9454]]),\n",
       " tensor(2.1814))"
      ]
     },
     "execution_count": 40,
     "metadata": {},
     "output_type": "execute_result"
    }
   ],
   "source": [
    "evaluate(Xdev,Ydev,Model)"
   ]
  },
  {
   "cell_type": "code",
   "execution_count": 41,
   "id": "580ec5e2-cd3d-466a-a12b-69e47a61b4d0",
   "metadata": {},
   "outputs": [
    {
     "name": "stdout",
     "output_type": "stream",
     "text": [
      "moriella\n",
      "ovie\n",
      "tedaria\n",
      "emilyse\n",
      "sueniavi\n",
      "ryon\n",
      "bsimhilin\n",
      "broahlan\n",
      "dasdr\n",
      "banell\n"
     ]
    }
   ],
   "source": [
    "generate(10,Model)"
   ]
  }
 ],
 "metadata": {
  "kernelspec": {
   "display_name": "deeplearning",
   "language": "python",
   "name": "python3"
  },
  "language_info": {
   "codemirror_mode": {
    "name": "ipython",
    "version": 3
   },
   "file_extension": ".py",
   "mimetype": "text/x-python",
   "name": "python",
   "nbconvert_exporter": "python",
   "pygments_lexer": "ipython3",
   "version": "3.11.7"
  }
 },
 "nbformat": 4,
 "nbformat_minor": 5
}
