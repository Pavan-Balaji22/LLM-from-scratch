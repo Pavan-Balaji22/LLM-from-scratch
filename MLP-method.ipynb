{
 "cells": [
  {
   "cell_type": "code",
   "execution_count": 46,
   "id": "e9f00160-e74b-40fa-abe3-ee2a7f54ce6b",
   "metadata": {},
   "outputs": [],
   "source": [
    "import pandas as pd\n",
    "import numpy as np\n",
    "import matplotlib.pyplot as plt\n",
    "import torch\n",
    "import time\n",
    "from torch.nn import functional as F\n",
    "import mlflow as mlflow\n",
    "%matplotlib inline"
   ]
  },
  {
   "cell_type": "code",
   "execution_count": 47,
   "id": "a35f4c3e-bd6c-47b1-86df-5489c667a1ad",
   "metadata": {},
   "outputs": [
    {
     "data": {
      "text/plain": [
       "True"
      ]
     },
     "execution_count": 47,
     "metadata": {},
     "output_type": "execute_result"
    }
   ],
   "source": [
    "torch.backends.mps.is_available()"
   ]
  },
  {
   "cell_type": "code",
   "execution_count": 48,
   "id": "f9825deb-36c9-4d18-876d-fd634ae86d9e",
   "metadata": {},
   "outputs": [
    {
     "data": {
      "text/plain": [
       "['emma', 'olivia', 'ava', 'isabella', 'sophia']"
      ]
     },
     "execution_count": 48,
     "metadata": {},
     "output_type": "execute_result"
    }
   ],
   "source": [
    "names = open(\"../datasets/llm/names.txt\",mode=\"r\",encoding=\"utf8\").read().splitlines()\n",
    "names[:5]"
   ]
  },
  {
   "cell_type": "code",
   "execution_count": 49,
   "id": "ef90e534-3433-4b13-9e81-228aef858f02",
   "metadata": {},
   "outputs": [],
   "source": [
    "vocab = \"\".join(sorted(set(x for word in names+[\".\"] for x in word))) # building vocab"
   ]
  },
  {
   "cell_type": "code",
   "execution_count": 50,
   "id": "4f8e56f2-a251-4a64-ba6e-5c6279133a78",
   "metadata": {},
   "outputs": [
    {
     "data": {
      "text/plain": [
       "27"
      ]
     },
     "execution_count": 50,
     "metadata": {},
     "output_type": "execute_result"
    }
   ],
   "source": [
    "len(vocab)"
   ]
  },
  {
   "cell_type": "code",
   "execution_count": 51,
   "id": "8dfd99f7-ee67-420a-9be5-dcca3a55ddcd",
   "metadata": {},
   "outputs": [],
   "source": [
    "stoi = {k:v for v,k in enumerate(vocab)}\n",
    "itos = {v:k for v,k in enumerate(vocab)}"
   ]
  },
  {
   "cell_type": "code",
   "execution_count": 198,
   "id": "3ac49fde-7582-4296-9545-dbef8bc6df99",
   "metadata": {
    "scrolled": true
   },
   "outputs": [
    {
     "name": "stdout",
     "output_type": "stream",
     "text": [
      "torch.Size([182684, 3]) torch.Size([182684])\n",
      "torch.Size([22717, 3]) torch.Size([22717])\n",
      "torch.Size([22745, 3]) torch.Size([22745])\n"
     ]
    }
   ],
   "source": [
    "torch.set_default_device(\"cpu\")\n",
    "def build_dataset(data, n_context):\n",
    "    xs = []\n",
    "    ys = []\n",
    "    \n",
    "    for x in data:\n",
    "        context = [0]* n_context\n",
    "        for ch in x + \".\":\n",
    "            # print(f\"{context} {stoi[ch]}\")\n",
    "            ix = stoi[ch]\n",
    "            xs.append(context)\n",
    "            ys.append(ix)\n",
    "            context = context[1:]+[ix]\n",
    "    xs = torch.tensor(xs)\n",
    "    ys = torch.tensor(ys)\n",
    "    print(xs.shape,ys.shape)\n",
    "    return xs,ys\n",
    "\n",
    "np.random.shuffle(names)\n",
    "\n",
    "data_size =  len(names)\n",
    "n_context = 3\n",
    "train_data = names[:int(data_size * .8)]\n",
    "dev_data = names[int(data_size * .8):int(data_size * .9)]\n",
    "test_data = names[int(data_size * .9):]\n",
    "\n",
    "Xtr,Ytr = build_dataset(train_data,n_context) \n",
    "Xdev,Ydev = build_dataset(dev_data,n_context)\n",
    "Xtest,Ytest = build_dataset(test_data,n_context)"
   ]
  },
  {
   "cell_type": "code",
   "execution_count": 199,
   "id": "77d6fe41-ef15-4998-b98f-a05ebd6f95b8",
   "metadata": {},
   "outputs": [
    {
     "data": {
      "text/plain": [
       "tensor([[ 0,  0,  0],\n",
       "        [ 0,  0, 10],\n",
       "        [ 0, 10, 15],\n",
       "        ...,\n",
       "        [ 0, 10,  1],\n",
       "        [10,  1, 14],\n",
       "        [ 1, 14,  1]])"
      ]
     },
     "execution_count": 199,
     "metadata": {},
     "output_type": "execute_result"
    }
   ],
   "source": [
    "Xtr"
   ]
  },
  {
   "cell_type": "code",
   "execution_count": 239,
   "id": "169b11c7-3f0e-4b17-a3d7-81ed768fbe04",
   "metadata": {},
   "outputs": [],
   "source": [
    "e_dim = 10\n",
    "h_dim = 200\n",
    "g = torch.Generator().manual_seed(2147483647)\n",
    "C = torch.randn(len(vocab), e_dim, generator=g) # character embeddings with dimension of e_dim\n",
    "W1 = torch.randn(n_context*e_dim, h_dim, generator=g) #* (5/3) /((e_dim * n_context)**0.5) # kammit init\n",
    "b1 = torch.randn(h_dim, generator=g) * 0.01\n",
    "W2 = torch.randn(h_dim,len(vocab), generator=g) * 0.01\n",
    "b2 = torch.randn(len(vocab), generator=g) * 0\n",
    "\n",
    "bgain = torch.ones((1,h_dim))\n",
    "bbias = torch.zeros((1,h_dim))\n",
    "bmeanrunning = torch.zeros((1,h_dim))\n",
    "bstdrunning = torch.ones((1,h_dim))\n",
    "\n",
    "parameters = [C,W1,b1,W2,b2,bgain,bbias]"
   ]
  },
  {
   "cell_type": "code",
   "execution_count": 240,
   "id": "33803c6c-c7cc-4450-8b0b-5132559a8491",
   "metadata": {},
   "outputs": [],
   "source": [
    "lrs = torch.linspace(-3,1,20)\n",
    "loglrs = 10**lrs"
   ]
  },
  {
   "cell_type": "code",
   "execution_count": 241,
   "id": "bcac3442-c65a-47a6-9b81-0892d388184f",
   "metadata": {},
   "outputs": [],
   "source": [
    "lossi = []\n",
    "rsloss = []"
   ]
  },
  {
   "cell_type": "code",
   "execution_count": 242,
   "id": "d174aee6-0d27-4052-acf7-3695b51b75a3",
   "metadata": {},
   "outputs": [
    {
     "data": {
      "text/plain": [
       "12297"
      ]
     },
     "execution_count": 242,
     "metadata": {},
     "output_type": "execute_result"
    }
   ],
   "source": [
    "sum( p.nelement() for p in parameters)"
   ]
  },
  {
   "cell_type": "code",
   "execution_count": 243,
   "id": "11ba50ac-5566-48d9-a51f-7050f024cf75",
   "metadata": {},
   "outputs": [],
   "source": [
    "for p in parameters:\n",
    "    p.requires_grad = True"
   ]
  },
  {
   "cell_type": "code",
   "execution_count": 244,
   "id": "5b06d304-c101-4798-b1ad-787df43d0adb",
   "metadata": {
    "scrolled": true
   },
   "outputs": [
    {
     "name": "stdout",
     "output_type": "stream",
     "text": [
      "loss at 0/200000 3.3069\n",
      "loss at 10000/200000 2.3789\n",
      "loss at 20000/200000 2.3516\n",
      "loss at 30000/200000 2.2254\n",
      "loss at 40000/200000 2.3253\n",
      "loss at 50000/200000 2.1646\n",
      "loss at 60000/200000 1.8788\n",
      "loss at 70000/200000 2.2700\n",
      "loss at 80000/200000 2.1885\n",
      "loss at 90000/200000 2.3038\n",
      "loss at 100000/200000 2.0505\n",
      "loss at 110000/200000 2.5955\n",
      "loss at 120000/200000 2.2372\n",
      "loss at 130000/200000 2.0133\n",
      "loss at 140000/200000 1.7310\n",
      "loss at 150000/200000 1.9859\n",
      "loss at 160000/200000 2.2209\n",
      "loss at 170000/200000 1.9710\n",
      "loss at 180000/200000 2.2870\n",
      "loss at 190000/200000 1.7024\n",
      "Mins taken: -1.4599177678426107\n",
      " Final loss: 1.9955\n"
     ]
    }
   ],
   "source": [
    "\n",
    "t = time.time()\n",
    "batch_size = 32\n",
    "lrsloss = []\n",
    "for i in range(200000):\n",
    "    #forward pass\n",
    "    ix = torch.randint(0,high = Xtr.shape[0],size=(batch_size,))\n",
    "    emb = C[Xtr[ix]]\n",
    "    preh = emb.view(-1,n_context*e_dim) @ W1 + b1\n",
    "    bmeani = preh.mean(0,keepdim=True)\n",
    "    bstdi = preh.std(0,keepdim = True)\n",
    "    preh = bgain*(preh - bmeani)/ bstdi + bbias\n",
    "    with torch.no_grad():\n",
    "        bmeanrunning = 0.999 * bmeanrunning + 0.001 * bmeani\n",
    "        bmeanrunning = 0.999 * bstdrunning + 0.001 * bstdi\n",
    "        \n",
    "    h =  torch.tanh(preh)\n",
    "    out = h @ W2 + b2\n",
    "    loss = F.cross_entropy(out,Ytr[ix])\n",
    "    lossi.append(loss.item())\n",
    "    if i % 10000 == 0:\n",
    "        print(F\"loss at {i}/200000 {loss.item():.4f}\")\n",
    "    for p in parameters:\n",
    "        p.grad = None \n",
    "    #backpass\n",
    "    loss.backward()\n",
    "    \n",
    "    #update\n",
    "    lr = 0.1 if i <100000 else 0.01\n",
    "    for p in parameters:\n",
    "        p.data += -lr*p.grad\n",
    "print(F\"Mins taken: {(t - time.time())/60}\")\n",
    "print(F\" Final loss: {loss.item():.4f}\")\n"
   ]
  },
  {
   "cell_type": "code",
   "execution_count": 246,
   "id": "27367689-99fa-4d4b-beee-6f1393e6b9ea",
   "metadata": {},
   "outputs": [
    {
     "data": {
      "text/plain": [
       "[<matplotlib.lines.Line2D at 0x3a85fcd10>]"
      ]
     },
     "execution_count": 246,
     "metadata": {},
     "output_type": "execute_result"
    },
    {
     "data": {
      "image/png": "[encoded data removed]",
      "text/plain": [
       "<Figure size 640x480 with 1 Axes>"
      ]
     },
     "metadata": {},
     "output_type": "display_data"
    }
   ],
   "source": [
    "plt.plot(lossi)"
   ]
  },
  {
   "cell_type": "code",
   "execution_count": 247,
   "id": "8e2a1ab7-6859-4e3f-9d38-e3abb80add70",
   "metadata": {},
   "outputs": [
    {
     "data": {
      "image/png": "[encoded data removed]",
      "text/plain": [
       "<Figure size 640x480 with 1 Axes>"
      ]
     },
     "metadata": {},
     "output_type": "display_data"
    }
   ],
   "source": [
    "plt.hist(h.view(-1).data,bins=50)\n",
    "plt.show()"
   ]
  },
  {
   "cell_type": "code",
   "execution_count": 248,
   "id": "d6f86c03-10e5-4582-af6e-ee06d37b024c",
   "metadata": {},
   "outputs": [
    {
     "data": {
      "image/png": "[encoded data removed]",
      "text/plain": [
       "<Figure size 640x480 with 1 Axes>"
      ]
     },
     "metadata": {},
     "output_type": "display_data"
    }
   ],
   "source": [
    "plt.hist(preh.view(-1).data,bins=50)\n",
    "plt.show()"
   ]
  },
  {
   "cell_type": "code",
   "execution_count": 249,
   "id": "2c1e99f3-640d-48e2-9152-2fbc37f5515f",
   "metadata": {
    "scrolled": true
   },
   "outputs": [
    {
     "data": {
      "image/png": "[encoded data removed]",
      "text/plain": [
       "<Figure size 800x800 with 1 Axes>"
      ]
     },
     "metadata": {},
     "output_type": "display_data"
    }
   ],
   "source": [
    "plt.figure(figsize=(8,8))\n",
    "plt.imshow(h.abs() > .99,cmap=\"grey\",interpolation=\"nearest\");"
   ]
  },
  {
   "cell_type": "code",
   "execution_count": 250,
   "id": "7675f905-31d1-421d-9f3f-3b4beb54af1f",
   "metadata": {},
   "outputs": [],
   "source": [
    "with torch.no_grad():\n",
    "    emb = C[Xtr]\n",
    "    preh = emb.view(-1,n_context*e_dim) @ W1 + b1\n",
    "    bmean = preh.mean(0,keepdim=True)\n",
    "    bstd = preh.std(0,keepdim = True)\n",
    "    "
   ]
  },
  {
   "cell_type": "code",
   "execution_count": 251,
   "id": "e7e6790d-2e5c-4d5f-baa5-02ad6862236d",
   "metadata": {},
   "outputs": [
    {
     "name": "stdout",
     "output_type": "stream",
     "text": [
      "tensor(2.1354)\n"
     ]
    }
   ],
   "source": [
    "#dev validation\n",
    "with torch.no_grad():\n",
    "    # ix = torch.randint(0,high = Xtr.shape[0],size=(batch_size,))\n",
    "    emb = C[Xdev]\n",
    "    preh = emb.view(-1,n_context*e_dim) @ W1 + b1\n",
    "    preh = bgain*(preh - bmean)/ bstd + bbias\n",
    "    h =  torch.tanh(preh)\n",
    "    out = h @ W2 + b2\n",
    "    loss = F.cross_entropy(out,Ydev)\n",
    "    print(loss)"
   ]
  },
  {
   "cell_type": "code",
   "execution_count": 252,
   "id": "4d530df5-8f80-40b1-b386-5a54dcdea0ef",
   "metadata": {
    "editable": true,
    "slideshow": {
     "slide_type": ""
    },
    "tags": []
   },
   "outputs": [
    {
     "data": {
      "image/png": "[encoded data removed]",
      "text/plain": [
       "<Figure size 800x800 with 1 Axes>"
      ]
     },
     "metadata": {},
     "output_type": "display_data"
    }
   ],
   "source": [
    "plt.figure(figsize=(8,8))\n",
    "i=0\n",
    "C1 = C.cpu().detach().numpy()\n",
    "plt.scatter(C1[:,0],C1[:,1])\n",
    "for i in range(C.shape[0]):\n",
    "    plt.text(C[i,0].item(), C[i,1].item(), itos[i], ha=\"center\", va=\"center\", color='white')\n",
    "# plt.grid('minor')"
   ]
  },
  {
   "cell_type": "code",
   "execution_count": 253,
   "id": "26c43af5-2115-4aa2-8525-1ef203f697d4",
   "metadata": {},
   "outputs": [
    {
     "name": "stdout",
     "output_type": "stream",
     "text": [
      "dex\n",
      "mariah\n",
      "makilah\n",
      "tyha\n",
      "kalimitta\n",
      "nella\n",
      "kama\n",
      "darre\n",
      "zylee\n",
      "tahimion\n"
     ]
    }
   ],
   "source": [
    "g = torch.Generator().manual_seed(2147483647)\n",
    "for i in range(10):\n",
    "    #forward pass\n",
    "    out = []\n",
    "    context = [0] * n_context\n",
    "    while True:\n",
    "        emb = C[context]\n",
    "        preh = emb.view(1,-1) @ W1 + b1\n",
    "        preh = bgain*(preh - bmean)/ bstd + bbias\n",
    "        h =  torch.tanh(preh)\n",
    "        logits= h @ W2 + b2\n",
    "        p = F.softmax(logits,dim=1)\n",
    "        ix = torch.multinomial(p,num_samples = 1, replacement = True,generator = g)\n",
    "        context = context[1:] + [ix.item()]\n",
    "        if ix.item() == 0:\n",
    "            break\n",
    "        out.append(itos[ix.item()])\n",
    "    print(\"\".join(out))"
   ]
  },
  {
   "cell_type": "markdown",
   "id": "fcf35a07-1b84-40d3-af37-6a3dcd4950ec",
   "metadata": {},
   "source": [
    "### Loss log\n",
    "without any optimization\n",
    "\n",
    "embedding dimension 2\n",
    "\n",
    "train loss 1.90\n",
    "\n",
    "dev loss 2.30\n",
    "\n",
    "embedding dimension 10\n",
    "\n",
    "train loss 1.95\n",
    "\n",
    "dev loss 2.12\n",
    "\n",
    "kamming init\n",
    "\n",
    "train loss 2.2\n",
    "\n",
    "dev loss 2.10\n",
    "\n",
    "batch norm"
   ]
  },
  {
   "cell_type": "code",
   "execution_count": 25,
   "id": "f0ce89cc-808c-426a-8e4a-3cd134b07c58",
   "metadata": {},
   "outputs": [
    {
     "data": {
      "text/plain": [
       "0"
      ]
     },
     "execution_count": 25,
     "metadata": {},
     "output_type": "execute_result"
    }
   ],
   "source": [
    "10 % 10 "
   ]
  },
  {
   "cell_type": "code",
   "execution_count": 21,
   "id": "7281b4ad-be9d-4f76-a2a8-be10fab2b8d4",
   "metadata": {},
   "outputs": [],
   "source": [
    "import time"
   ]
  },
  {
   "cell_type": "code",
   "execution_count": 88,
   "id": "7221bf36-e0c4-4f9b-a2ad-42868162e12e",
   "metadata": {},
   "outputs": [
    {
     "name": "stdout",
     "output_type": "stream",
     "text": [
      "1731385180.969165\n"
     ]
    },
    {
     "data": {
      "text/plain": [
       "1731385185.9718242"
      ]
     },
     "execution_count": 88,
     "metadata": {},
     "output_type": "execute_result"
    }
   ],
   "source": [
    "print(time.time())\n",
    "time.sleep(5)\n",
    "time.time()"
   ]
  },
  {
   "cell_type": "code",
   "execution_count": 100,
   "id": "c0499319-ca42-4b49-9a93-82f499b65d3d",
   "metadata": {},
   "outputs": [],
   "source": [
    "class NN(torch.nn.Module):\n",
    "    def __init__(self,n_context,e_dim,h_dim):\n",
    "        super().__init__()\n",
    "        self.W1 = torch.randn(n_context*e_dim, h_dim)\n",
    "        self.b1 = torch.randn(h_dim)\n",
    "    def forward(self,x):\n",
    "        out = x.view(-1,n_context*e_dim) @ self.W1 + self.b1\n",
    "        return out\n"
   ]
  },
  {
   "cell_type": "code",
   "execution_count": 101,
   "id": "b69488a1-2a30-4efe-bba8-4ed8ae65634e",
   "metadata": {},
   "outputs": [],
   "source": [
    "linera =  NN(n_context,e_dim,h_dim)"
   ]
  },
  {
   "cell_type": "code",
   "execution_count": 104,
   "id": "861d4d4d-67b8-462a-9d63-d238ba36e7c8",
   "metadata": {},
   "outputs": [
    {
     "data": {
      "text/plain": [
       "torch.Size([32, 200])"
      ]
     },
     "execution_count": 104,
     "metadata": {},
     "output_type": "execute_result"
    }
   ],
   "source": [
    "linera(emb.view(-1,n_context*e_dim)).shape"
   ]
  }
 ],
 "metadata": {
  "kernelspec": {
   "display_name": "Python 3 (ipykernel)",
   "language": "python",
   "name": "python3"
  },
  "language_info": {
   "codemirror_mode": {
    "name": "ipython",
    "version": 3
   },
   "file_extension": ".py",
   "mimetype": "text/x-python",
   "name": "python",
   "nbconvert_exporter": "python",
   "pygments_lexer": "ipython3",
   "version": "3.11.7"
  }
 },
 "nbformat": 4,
 "nbformat_minor": 5
}
