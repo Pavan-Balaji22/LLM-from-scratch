{
 "cells": [
  {
   "cell_type": "code",
   "execution_count": 1,
   "id": "e9f00160-e74b-40fa-abe3-ee2a7f54ce6b",
   "metadata": {},
   "outputs": [],
   "source": [
    "import pandas as pd\n",
    "import numpy as np\n",
    "import matplotlib.pyplot as plt\n",
    "import torch\n",
    "from torch.nn import functional as F\n",
    "%matplotlib inline"
   ]
  },
  {
   "cell_type": "code",
   "execution_count": 2,
   "id": "f9825deb-36c9-4d18-876d-fd634ae86d9e",
   "metadata": {},
   "outputs": [
    {
     "data": {
      "text/plain": [
       "['emma', 'olivia', 'ava', 'isabella', 'sophia']"
      ]
     },
     "execution_count": 2,
     "metadata": {},
     "output_type": "execute_result"
    }
   ],
   "source": [
    "names = open(\"../datasets/llm/names.txt\",mode=\"r\",encoding=\"utf8\").read().splitlines()\n",
    "names[:5]"
   ]
  },
  {
   "cell_type": "code",
   "execution_count": 3,
   "id": "ef90e534-3433-4b13-9e81-228aef858f02",
   "metadata": {},
   "outputs": [],
   "source": [
    "vocab = \"\".join(sorted(set(x for word in names+[\".\"] for x in word))) # building vocab"
   ]
  },
  {
   "cell_type": "code",
   "execution_count": 4,
   "id": "8dfd99f7-ee67-420a-9be5-dcca3a55ddcd",
   "metadata": {},
   "outputs": [],
   "source": [
    "stoi = {k:v for v,k in enumerate(vocab)}\n",
    "itos = {v:k for v,k in enumerate(vocab)}"
   ]
  },
  {
   "cell_type": "code",
   "execution_count": 5,
   "id": "3ac49fde-7582-4296-9545-dbef8bc6df99",
   "metadata": {
    "scrolled": true
   },
   "outputs": [
    {
     "name": "stdout",
     "output_type": "stream",
     "text": [
      "torch.Size([182415, 3]) torch.Size([182415])\n",
      "torch.Size([22792, 3]) torch.Size([22792])\n",
      "torch.Size([22939, 3]) torch.Size([22939])\n"
     ]
    }
   ],
   "source": [
    "torch.set_default_device(\"mps\")\n",
    "def build_dataset(data, n_context):\n",
    "    xs = []\n",
    "    ys = []\n",
    "    \n",
    "    for x in data:\n",
    "        context = [0]* n_context\n",
    "        for ch in x + \".\":\n",
    "            # print(f\"{context} {stoi[ch]}\")\n",
    "            ix = stoi[ch]\n",
    "            xs.append(context)\n",
    "            ys.append(ix)\n",
    "            context = context[1:]+[ix]\n",
    "    xs = torch.tensor(xs)\n",
    "    ys = torch.tensor(ys)\n",
    "    print(xs.shape,ys.shape)\n",
    "    return xs,ys\n",
    "\n",
    "np.random.shuffle(names)\n",
    "\n",
    "data_size =  len(names)\n",
    "n_context = 3\n",
    "train_data = names[:int(data_size * .8)]\n",
    "dev_data = names[int(data_size * .8):int(data_size * .9)]\n",
    "test_data = names[int(data_size * .9):]\n",
    "\n",
    "Xtr,Ytr = build_dataset(train_data,n_context) \n",
    "Xdev,Ydev = build_dataset(dev_data,n_context)\n",
    "Xtest,Ytest = build_dataset(test_data,n_context)"
   ]
  },
  {
   "cell_type": "code",
   "execution_count": 6,
   "id": "77d6fe41-ef15-4998-b98f-a05ebd6f95b8",
   "metadata": {},
   "outputs": [
    {
     "data": {
      "text/plain": [
       "tensor([[ 0,  0,  0],\n",
       "        [ 0,  0, 11],\n",
       "        [ 0, 11, 18],\n",
       "        ...,\n",
       "        [ 1,  5, 19],\n",
       "        [ 5, 19, 25],\n",
       "        [19, 25, 14]], device='mps:0')"
      ]
     },
     "execution_count": 6,
     "metadata": {},
     "output_type": "execute_result"
    }
   ],
   "source": [
    "Xtr"
   ]
  },
  {
   "cell_type": "code",
   "execution_count": 78,
   "id": "169b11c7-3f0e-4b17-a3d7-81ed768fbe04",
   "metadata": {},
   "outputs": [],
   "source": [
    "e_dim = 10\n",
    "h_dim = 200\n",
    "g = torch.Generator(device = \"mps:0\").manual_seed(2147483647)\n",
    "C = torch.randn(len(vocab), e_dim, generator=g) # character embeddings with dimension of 2\n",
    "W1 = torch.randn(n_context*e_dim, h_dim, generator=g) * 0.01\n",
    "b1 = torch.randn(h_dim, generator=g) * 0.01\n",
    "W2 = torch.randn(h_dim,len(vocab), generator=g) * 0.01\n",
    "b2 = torch.randn(len(vocab), generator=g) * 0.01\n",
    "\n",
    "parameters = [C,W1,b1,W2,b2]"
   ]
  },
  {
   "cell_type": "code",
   "execution_count": 79,
   "id": "33803c6c-c7cc-4450-8b0b-5132559a8491",
   "metadata": {},
   "outputs": [],
   "source": [
    "lrs = torch.linspace(-3,1,20)\n",
    "loglrs = 10**lrs"
   ]
  },
  {
   "cell_type": "code",
   "execution_count": 80,
   "id": "bcac3442-c65a-47a6-9b81-0892d388184f",
   "metadata": {},
   "outputs": [],
   "source": [
    "lrsloss = []"
   ]
  },
  {
   "cell_type": "code",
   "execution_count": 52,
   "id": "d174aee6-0d27-4052-acf7-3695b51b75a3",
   "metadata": {},
   "outputs": [
    {
     "data": {
      "text/plain": [
       "11897"
      ]
     },
     "execution_count": 52,
     "metadata": {},
     "output_type": "execute_result"
    }
   ],
   "source": [
    "sum( p.nelement() for p in parameters)"
   ]
  },
  {
   "cell_type": "code",
   "execution_count": 53,
   "id": "11ba50ac-5566-48d9-a51f-7050f024cf75",
   "metadata": {},
   "outputs": [],
   "source": [
    "for p in parameters:\n",
    "    p.requires_grad = True"
   ]
  },
  {
   "cell_type": "code",
   "execution_count": 54,
   "id": "5b06d304-c101-4798-b1ad-787df43d0adb",
   "metadata": {},
   "outputs": [
    {
     "name": "stdout",
     "output_type": "stream",
     "text": [
      "loss at 0/200000 3.2974\n",
      "loss at 10000/200000 2.8417\n",
      "loss at 20000/200000 2.0994\n",
      "loss at 30000/200000 2.1696\n",
      "loss at 40000/200000 2.2701\n",
      "loss at 50000/200000 1.9801\n",
      "loss at 60000/200000 2.1495\n",
      "loss at 70000/200000 2.1760\n",
      "loss at 80000/200000 2.3460\n",
      "loss at 90000/200000 2.0584\n",
      "loss at 100000/200000 1.9946\n",
      "loss at 110000/200000 2.1287\n",
      "loss at 120000/200000 2.1147\n",
      "loss at 130000/200000 1.9853\n",
      "loss at 140000/200000 2.4270\n",
      "loss at 150000/200000 2.1913\n",
      "loss at 160000/200000 2.6433\n",
      "loss at 170000/200000 1.9272\n",
      "loss at 180000/200000 2.0089\n",
      "loss at 190000/200000 2.3425\n",
      " Final loss: 2.0574\n"
     ]
    }
   ],
   "source": [
    "batch_size = 32\n",
    "lrsloss = []\n",
    "for i in range(200000):\n",
    "    #forward pass\n",
    "    ix = torch.randint(0,high = Xtr.shape[0],size=(batch_size,))\n",
    "    emb = C[Xtr[ix]]\n",
    "    out = emb.view(-1,n_context*e_dim) @ W1 + b1\n",
    "    out =  torch.tanh(out)\n",
    "    out = out @ W2 + b2\n",
    "    loss = F.cross_entropy(out,Ytr[ix])\n",
    "    if i % 10000 == 0:\n",
    "        print(F\"loss at {i}/200000 {loss.item():.4f}\")\n",
    "    for p in parameters:\n",
    "        p.grad = None \n",
    "    #backpass\n",
    "    loss.backward()\n",
    "    \n",
    "    #update\n",
    "    lr = 0.1 if i <100000 else 0.01\n",
    "    for p in parameters:\n",
    "        p.data += -lr*p.grad\n",
    "print(F\" Final loss: {loss.item():.4f}\")"
   ]
  },
  {
   "cell_type": "code",
   "execution_count": 55,
   "id": "e7e6790d-2e5c-4d5f-baa5-02ad6862236d",
   "metadata": {},
   "outputs": [
    {
     "name": "stdout",
     "output_type": "stream",
     "text": [
      "tensor(2.1358, device='mps:0')\n"
     ]
    }
   ],
   "source": [
    "#dev validation\n",
    "with torch.no_grad():\n",
    "    # ix = torch.randint(0,high = Xtr.shape[0],size=(batch_size,))\n",
    "    emb = C[Xdev]\n",
    "    out = emb.view(-1,n_context*e_dim) @ W1 + b1\n",
    "    out =  torch.tanh(out)\n",
    "    out = out @ W2 + b2\n",
    "    loss = F.cross_entropy(out,Ydev)\n",
    "    print(loss)"
   ]
  },
  {
   "cell_type": "code",
   "execution_count": 230,
   "id": "4d530df5-8f80-40b1-b386-5a54dcdea0ef",
   "metadata": {
    "editable": true,
    "slideshow": {
     "slide_type": ""
    },
    "tags": []
   },
   "outputs": [
    {
     "data": {
      "image/png": "[encoded data removed]",
      "text/plain": [
       "<Figure size 800x800 with 1 Axes>"
      ]
     },
     "metadata": {},
     "output_type": "display_data"
    }
   ],
   "source": [
    "plt.figure(figsize=(8,8))\n",
    "i=0\n",
    "C1 = C.cpu().detach().numpy()\n",
    "plt.scatter(C1[:,0],C1[:,1])\n",
    "for i in range(C.shape[0]):\n",
    "    plt.text(C[i,0].item(), C[i,1].item(), itos[i], ha=\"center\", va=\"center\", color='white')\n",
    "# plt.grid('minor')"
   ]
  },
  {
   "cell_type": "code",
   "execution_count": 29,
   "id": "26c43af5-2115-4aa2-8525-1ef203f697d4",
   "metadata": {},
   "outputs": [
    {
     "name": "stdout",
     "output_type": "stream",
     "text": [
      "dai\n",
      "jasariyah\n",
      "chsy\n",
      "jaraseevonn\n",
      "quin\n",
      "dyston\n",
      "emitori\n",
      "des\n",
      "darya\n",
      "niko\n"
     ]
    }
   ],
   "source": [
    "g = torch.Generator(device = \"mps:0\").manual_seed(2147483647)\n",
    "for i in range(10):\n",
    "    #forward pass\n",
    "    out = []\n",
    "    context = [0] * 3\n",
    "    while True:\n",
    "        emb = C[context]\n",
    "        preh = emb.view(1,-1) @ W1 + b1\n",
    "        h =  torch.tanh(preh)\n",
    "        logits= h @ W2 + b2\n",
    "        p = F.softmax(logits,dim=1)\n",
    "        ix = torch.multinomial(p,num_samples = 1, replacement = True,generator = g)\n",
    "        context = context[1:] + [ix.item()]\n",
    "        if ix.item() == 0:\n",
    "            break\n",
    "        out.append(itos[ix.item()])\n",
    "    print(\"\".join(out))"
   ]
  },
  {
   "cell_type": "markdown",
   "id": "fcf35a07-1b84-40d3-af37-6a3dcd4950ec",
   "metadata": {},
   "source": [
    "### Loss log\n",
    "without any optimization\n",
    "\n",
    "embedding dimension 2\n",
    "\n",
    "train loss 1.90\n",
    "\n",
    "dev loss 2.30\n",
    "\n",
    "embedding dimension 10\n",
    "\n",
    "train loss 2.05\n",
    "\n",
    "dev loss 2.15"
   ]
  },
  {
   "cell_type": "code",
   "execution_count": 25,
   "id": "f0ce89cc-808c-426a-8e4a-3cd134b07c58",
   "metadata": {},
   "outputs": [
    {
     "data": {
      "text/plain": [
       "0"
      ]
     },
     "execution_count": 25,
     "metadata": {},
     "output_type": "execute_result"
    }
   ],
   "source": [
    "10 % 10 "
   ]
  },
  {
   "cell_type": "code",
   "execution_count": null,
   "id": "7281b4ad-be9d-4f76-a2a8-be10fab2b8d4",
   "metadata": {},
   "outputs": [],
   "source": []
  }
 ],
 "metadata": {
  "kernelspec": {
   "display_name": "Python 3 (ipykernel)",
   "language": "python",
   "name": "python3"
  },
  "language_info": {
   "codemirror_mode": {
    "name": "ipython",
    "version": 3
   },
   "file_extension": ".py",
   "mimetype": "text/x-python",
   "name": "python",
   "nbconvert_exporter": "python",
   "pygments_lexer": "ipython3",
   "version": "3.11.7"
  }
 },
 "nbformat": 4,
 "nbformat_minor": 5
}
