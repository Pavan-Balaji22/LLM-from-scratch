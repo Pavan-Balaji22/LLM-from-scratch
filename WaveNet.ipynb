{
 "cells": [
  {
   "cell_type": "code",
   "execution_count": 1,
   "id": "c2594b8b-5eb4-444a-95b8-fd6b74a969a9",
   "metadata": {},
   "outputs": [],
   "source": [
    "import pandas as pd\n",
    "import numpy as np\n",
    "import matplotlib.pyplot as plt\n",
    "import torch\n",
    "import time\n",
    "from torch.nn import functional as F\n",
    "from torch.nn import Sequential, Tanh, Parameter\n",
    "import mlflow as mlflow\n",
    "%matplotlib inline"
   ]
  },
  {
   "cell_type": "code",
   "execution_count": 2,
   "id": "1e5ff59b-68a2-4978-9db4-359b0ce77c5e",
   "metadata": {},
   "outputs": [],
   "source": [
    "torch.manual_seed(42);"
   ]
  },
  {
   "cell_type": "code",
   "execution_count": 3,
   "id": "05e410fb-0d64-4295-aa19-af945a0ea560",
   "metadata": {},
   "outputs": [
    {
     "data": {
      "text/plain": [
       "['emma', 'olivia', 'ava', 'isabella', 'sophia']"
      ]
     },
     "execution_count": 3,
     "metadata": {},
     "output_type": "execute_result"
    }
   ],
   "source": [
    "names = open(\"../datasets/llm/names.txt\",mode=\"r\",encoding=\"utf8\").read().splitlines()\n",
    "names[:5]"
   ]
  },
  {
   "cell_type": "code",
   "execution_count": 4,
   "id": "654bf64f-d2ce-4017-8f2d-d189c1472063",
   "metadata": {},
   "outputs": [],
   "source": [
    "vocab = \"\".join(sorted(set(x for word in names+[\".\"] for x in word))) # building vocab"
   ]
  },
  {
   "cell_type": "code",
   "execution_count": 5,
   "id": "e8a6af79-3c19-4017-916c-ea8491550917",
   "metadata": {},
   "outputs": [
    {
     "data": {
      "text/plain": [
       "27"
      ]
     },
     "execution_count": 5,
     "metadata": {},
     "output_type": "execute_result"
    }
   ],
   "source": [
    "len(vocab)"
   ]
  },
  {
   "cell_type": "code",
   "execution_count": 6,
   "id": "fe3330ae-5a88-4618-8651-32aefc66735c",
   "metadata": {},
   "outputs": [],
   "source": [
    "stoi = {k:v for v,k in enumerate(vocab)}\n",
    "itos = {v:k for v,k in enumerate(vocab)}"
   ]
  },
  {
   "cell_type": "code",
   "execution_count": 7,
   "id": "98f50d52-bebc-4f64-95dc-268132b3a5e9",
   "metadata": {
    "scrolled": true
   },
   "outputs": [
    {
     "name": "stdout",
     "output_type": "stream",
     "text": [
      "torch.Size([182337, 8]) torch.Size([182337])\n",
      "torch.Size([22924, 8]) torch.Size([22924])\n",
      "torch.Size([22885, 8]) torch.Size([22885])\n"
     ]
    }
   ],
   "source": [
    "torch.set_default_device(\"cpu\")\n",
    "def build_dataset(data, n_context):\n",
    "    xs = []\n",
    "    ys = []\n",
    "    \n",
    "    for x in data:\n",
    "        context = [0]* n_context\n",
    "        for ch in x + \".\":\n",
    "            # print(f\"{context} {stoi[ch]}\")\n",
    "            ix = stoi[ch]\n",
    "            xs.append(context)\n",
    "            ys.append(ix)\n",
    "            context = context[1:]+[ix]\n",
    "    xs = torch.tensor(xs)\n",
    "    ys = torch.tensor(ys)\n",
    "    print(xs.shape,ys.shape)\n",
    "    return xs,ys\n",
    "\n",
    "np.random.shuffle(names)\n",
    "\n",
    "data_size =  len(names)\n",
    "\n",
    "train_data = names[:int(data_size * .8)]\n",
    "dev_data = names[int(data_size * .8):int(data_size * .9)]\n",
    "test_data = names[int(data_size * .9):]\n",
    "\n",
    "#hyperparameters\n",
    "n_context = 8\n",
    "e_dim = 10\n",
    "h_dim = 200\n",
    "n_consec = 2\n",
    "\n",
    "Xtr,Ytr = build_dataset(train_data,n_context) \n",
    "Xdev,Ydev = build_dataset(dev_data,n_context)\n",
    "Xtest,Ytest = build_dataset(test_data,n_context)"
   ]
  },
  {
   "cell_type": "code",
   "execution_count": 16,
   "id": "87ea888e-6e92-4fd8-a743-e57619d600cf",
   "metadata": {},
   "outputs": [],
   "source": [
    "class Linear(torch.nn.Module):\n",
    "    def __init__(self,nin,nout,bias=True,weight=1):\n",
    "        super().__init__()\n",
    "        self.nin = nin\n",
    "        self.nout = nout\n",
    "        self.weights = Parameter(torch.randn(nin, nout) * weight)\n",
    "        self.bias = Parameter(torch.randn(nout)) if bias else None\n",
    "\n",
    "    \n",
    "    def forward(self,x):\n",
    "        self.out = x @ self.weights * self.nin**-0.5\n",
    "        if self.bias != None:\n",
    "            self.out = self.out + self.bias\n",
    "        return self.out \n",
    "\n",
    "    # def parameters(self):\n",
    "    #     self.parameters = [self.W1] + [self.b1] if self.b1!=None else [self.W1]\n",
    "    #     return self.parameters \n",
    "        \n",
    "class Flatten(torch.nn.Module):\n",
    "    def __init__(self):\n",
    "        super().__init__()\n",
    "\n",
    "    def forward(self,x):\n",
    "        self.out = x.view(x.shape[0],-1)\n",
    "        return self.out\n",
    "        \n",
    "class Embedding(torch.nn.Module):\n",
    "    def __init__(self,vocab_size,edim):\n",
    "        super().__init__()\n",
    "        self.weights = Parameter(torch.randn(vocab_size, edim))\n",
    "\n",
    "    def forward(self,x):\n",
    "        self.out = self.weights[x]\n",
    "        return self.out\n",
    "\n",
    "    # def parameters(self):\n",
    "    #     self.parameters = [self.embedding]\n",
    "    #     return self.parameters\n",
    "\n",
    "class BatchNorm1d(torch.nn.Module):\n",
    "    def __init__(self,nout,alpha=0.001,eps=1e-05):\n",
    "        super().__init__()\n",
    "        self.nout = nout\n",
    "        self.bgain = Parameter(torch.ones(1,nout))\n",
    "        self.bbias = Parameter(torch.zeros(1,nout))\n",
    "        self.bstdrunning = torch.ones(1,nout)\n",
    "        self.bmeanrunning = torch.zeros(1,nout)\n",
    "        self.alpha = alpha\n",
    "        self.eps = eps\n",
    "        \n",
    "    def forward(self,x):\n",
    "        if(self.training):\n",
    "            dimn = len(x.shape) -1\n",
    "            # print([*range(dimn)])\n",
    "            bmeani = x.mean([*range(dimn)],keepdim=True)\n",
    "            bstdi = x.std([*range(dimn)],keepdim = True)\n",
    "            self.out = self.bgain*(x - bmeani)/ (bstdi + self.eps) + self.bbias\n",
    "            with torch.no_grad():\n",
    "                self.bmeanrunning = self.alpha * self.bmeanrunning + (1 - self.alpha)* bmeani\n",
    "                self.bstdrunning = self.alpha * self.bstdrunning + (1 - self.alpha) * bstdi\n",
    "        else:\n",
    "            self.out = self.bgain*(x - self.bmeanrunning)/ (self.bstdrunning + self.eps) + self.bbias\n",
    "\n",
    "        return self.out\n",
    "   \n",
    "    # def parameters(self):\n",
    "    #     self.parameters = [self.bgain,self.bbias]\n",
    "    #     return self.parameters\n",
    "\n",
    "class FlattenConsecutive(torch.nn.Module):\n",
    "    def __init__(self,n):\n",
    "        super().__init__()\n",
    "        self.n = n\n",
    "\n",
    "    def forward(self,x):\n",
    "        B,T,C = x.shape\n",
    "        x=x.view(B,T//self.n,C * self.n)\n",
    "        if x.shape[1] == 1:\n",
    "           x =  x.squeeze(1)\n",
    "        self.out = x\n",
    "        return self.out\n",
    "\n",
    "class Tanh1(torch.nn.Module):\n",
    "    def __init__(self):\n",
    "        super().__init__()\n",
    "\n",
    "    def forward(self,x):\n",
    "        self.out = F.tanh(x)\n",
    "        return self.out\n",
    "        \n",
    "@torch.no_grad()\n",
    "def evaluate(X,Y,model):\n",
    "    model.eval()\n",
    "    out = model(X)\n",
    "    loss = F.cross_entropy(out,Y)\n",
    "    return out,loss\n",
    "\n",
    "@torch.no_grad()\n",
    "def generate(n_words,model):\n",
    "    model.eval()\n",
    "    for i in range(10):\n",
    "        #forward pass\n",
    "        out = []\n",
    "        context = [0] * 8\n",
    "        while True:\n",
    "            logits= model(torch.tensor(context).view(1,-1))\n",
    "            p = F.softmax(logits,dim=1)\n",
    "            ix = torch.multinomial(p,num_samples = 1, replacement = True)\n",
    "            context = context[1:] + [ix.item()]\n",
    "            if ix.item() == 0:\n",
    "                break\n",
    "            out.append(itos[ix.item()])\n",
    "        print(\"\".join(out))\n"
   ]
  },
  {
   "cell_type": "code",
   "execution_count": 17,
   "id": "e10f7200-c022-457b-8760-b60d0dc2369c",
   "metadata": {},
   "outputs": [],
   "source": [
    "Model =  Sequential(\n",
    "    Embedding(len(vocab),e_dim),\n",
    "    FlattenConsecutive(n_consec),Linear(n_consec*e_dim,h_dim,False),BatchNorm1d(h_dim),Tanh1(),\n",
    "    FlattenConsecutive(n_consec),Linear(n_consec*h_dim,h_dim,False),BatchNorm1d(h_dim),Tanh1(),\n",
    "    FlattenConsecutive(n_consec),Linear(n_consec*h_dim,h_dim,False),BatchNorm1d(h_dim),Tanh1(),\n",
    "    Linear(h_dim,len(vocab),weight=0.1)\n",
    "    \n",
    ")"
   ]
  },
  {
   "cell_type": "code",
   "execution_count": 18,
   "id": "5abd6e9b",
   "metadata": {},
   "outputs": [
    {
     "name": "stdout",
     "output_type": "stream",
     "text": [
      "torch.Size([27, 10])\n",
      "torch.Size([20, 200])\n",
      "torch.Size([1, 200])\n",
      "torch.Size([1, 200])\n",
      "torch.Size([400, 200])\n",
      "torch.Size([1, 200])\n",
      "torch.Size([1, 200])\n",
      "torch.Size([400, 200])\n",
      "torch.Size([1, 200])\n",
      "torch.Size([1, 200])\n",
      "torch.Size([200, 27])\n",
      "torch.Size([27])\n"
     ]
    }
   ],
   "source": [
    "for x in Model.parameters():\n",
    "    print(x.shape)"
   ]
  },
  {
   "cell_type": "code",
   "execution_count": 19,
   "id": "a745ee71-5d8b-411a-9dee-f925e6d0046f",
   "metadata": {},
   "outputs": [
    {
     "name": "stdout",
     "output_type": "stream",
     "text": [
      "loss at 0/200000 3.5366\n",
      "loss at 10000/200000 2.1999\n",
      "loss at 20000/200000 2.4702\n",
      "loss at 30000/200000 2.8373\n",
      "loss at 40000/200000 2.3525\n",
      "loss at 50000/200000 2.6504\n",
      "loss at 60000/200000 2.3649\n",
      "loss at 70000/200000 2.3244\n",
      "loss at 80000/200000 2.5135\n",
      "loss at 90000/200000 2.4074\n",
      "loss at 100000/200000 2.3695\n",
      "loss at 110000/200000 2.7043\n",
      "loss at 120000/200000 2.4481\n",
      "loss at 130000/200000 2.5822\n",
      "loss at 140000/200000 2.3335\n",
      "loss at 150000/200000 2.5060\n",
      "loss at 160000/200000 2.2840\n",
      "loss at 170000/200000 2.3431\n",
      "loss at 180000/200000 2.2326\n",
      "loss at 190000/200000 2.4947\n",
      " Final loss: 2.6340\n"
     ]
    }
   ],
   "source": [
    "batch_size = 32\n",
    "lrsloss = []\n",
    "lossi = []\n",
    "\n",
    "for i in range(200000):\n",
    "    #forward pass\n",
    "    # print(i)\n",
    "    lr = 0.01 if i <100000 else 0.001\n",
    "    Model.train()\n",
    "    # optimizer = torch.optim.SGD(Model.parameters(), lr=lr)\n",
    "    ix = torch.randint(0,high = Xtr.shape[0],size=(batch_size,))\n",
    "    out= Model.forward(Xtr[ix])\n",
    "    # print(out.shape)\n",
    "    loss = F.cross_entropy(out,Ytr[ix])\n",
    "    lossi.append(loss.log10().item())\n",
    "    if i % 10000 == 0:\n",
    "        print(F\"loss at {i}/200000 {loss.item():.4f}\")\n",
    "    #backpass\n",
    "    for p in Model.parameters():\n",
    "        p.grad = None\n",
    "    loss.backward(retain_graph=True)\n",
    "    for p in Model.parameters():\n",
    "        p.data += -lr*p.grad\n",
    "\n",
    "    # if i == 1:\n",
    "    #     break\n",
    "        \n",
    "\n",
    "print(F\" Final loss: {loss.item():.4f}\")"
   ]
  },
  {
   "cell_type": "code",
   "execution_count": 20,
   "id": "a3d23ef6-f70d-4767-ad44-ec45ef0c912b",
   "metadata": {},
   "outputs": [
    {
     "data": {
      "text/plain": [
       "(tensor([[-1.4039e+00,  1.9381e+00,  5.1752e-01,  ..., -1.5384e+00,\n",
       "          -4.5945e-02,  2.1568e-01],\n",
       "         [-1.4069e+00,  1.9590e+00, -4.5943e-02,  ..., -1.5126e+00,\n",
       "           6.0683e-01, -2.7694e-03],\n",
       "         [-4.4390e-01,  3.5377e+00, -7.6541e-01,  ..., -1.7467e+00,\n",
       "           1.9986e+00, -6.7716e-01],\n",
       "         ...,\n",
       "         [ 2.4704e+00,  1.5380e+00, -6.8385e-01,  ..., -1.5587e+00,\n",
       "           7.5718e-01, -5.7606e-01],\n",
       "         [ 3.9598e+00,  3.0916e+00, -1.1662e+00,  ..., -1.7581e+00,\n",
       "           1.3223e+00, -1.0018e+00],\n",
       "         [ 4.5405e+00,  3.3993e+00, -1.1600e+00,  ..., -1.7869e+00,\n",
       "           1.2655e+00, -1.0598e+00]]),\n",
       " tensor(2.3998))"
      ]
     },
     "execution_count": 20,
     "metadata": {},
     "output_type": "execute_result"
    }
   ],
   "source": [
    "evaluate(Xdev,Ydev,Model)"
   ]
  },
  {
   "cell_type": "code",
   "execution_count": 21,
   "id": "5be5a12d-5160-459b-907d-844f1d4e6d43",
   "metadata": {},
   "outputs": [
    {
     "data": {
      "text/plain": [
       "(tensor([[-1.4039,  1.9381,  0.5175,  ..., -1.5384, -0.0459,  0.2157],\n",
       "         [-1.1647,  0.9421, -0.0376,  ..., -1.4312,  0.8656, -0.0433],\n",
       "         [-0.5374,  3.1880, -0.4297,  ..., -1.7010,  1.4199, -0.5771],\n",
       "         ...,\n",
       "         [ 3.1281,  2.8148, -1.1745,  ..., -1.5894,  1.5520, -0.9067],\n",
       "         [ 3.6321,  1.2339, -0.7531,  ..., -1.5522,  0.6043, -0.6072],\n",
       "         [ 4.6994,  2.4963, -0.9971,  ..., -1.7495,  0.9908, -0.9540]]),\n",
       " tensor(2.3913))"
      ]
     },
     "execution_count": 21,
     "metadata": {},
     "output_type": "execute_result"
    }
   ],
   "source": [
    "evaluate(Xtest,Ytest,Model)"
   ]
  },
  {
   "cell_type": "code",
   "execution_count": 22,
   "id": "d149a2bd-d650-4e5c-bcf2-472bf3ddcb54",
   "metadata": {},
   "outputs": [
    {
     "name": "stdout",
     "output_type": "stream",
     "text": [
      "naaakaoe\n",
      "jaulas\n",
      "jaluku\n",
      "lahsyna\n",
      "masi\n",
      "kaihian\n",
      "enayn\n",
      "mldlefna\n",
      "mera\n",
      "tgye\n"
     ]
    }
   ],
   "source": [
    "generate(10,Model)"
   ]
  },
  {
   "cell_type": "code",
   "execution_count": 23,
   "id": "b312d9c6-1582-4a82-8377-ff9f126cca3f",
   "metadata": {},
   "outputs": [
    {
     "data": {
      "image/png": "[encoded data removed]",
      "text/plain": [
       "<Figure size 640x480 with 1 Axes>"
      ]
     },
     "metadata": {},
     "output_type": "display_data"
    }
   ],
   "source": [
    "plt.plot(torch.tensor(lossi).view(-1, 1000).mean(1));"
   ]
  }
 ],
 "metadata": {
  "kernelspec": {
   "display_name": "deeplearning",
   "language": "python",
   "name": "python3"
  },
  "language_info": {
   "codemirror_mode": {
    "name": "ipython",
    "version": 3
   },
   "file_extension": ".py",
   "mimetype": "text/x-python",
   "name": "python",
   "nbconvert_exporter": "python",
   "pygments_lexer": "ipython3",
   "version": "3.11.7"
  }
 },
 "nbformat": 4,
 "nbformat_minor": 5
}
