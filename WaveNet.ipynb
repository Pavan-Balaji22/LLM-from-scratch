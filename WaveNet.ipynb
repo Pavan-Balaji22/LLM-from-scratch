{
 "cells": [
  {
   "cell_type": "code",
   "execution_count": 1,
   "id": "c2594b8b-5eb4-444a-95b8-fd6b74a969a9",
   "metadata": {},
   "outputs": [],
   "source": [
    "import pandas as pd\n",
    "import numpy as np\n",
    "import matplotlib.pyplot as plt\n",
    "import torch\n",
    "import time\n",
    "from torch.nn import functional as F\n",
    "from torch.nn import Sequential, Tanh, Parameter\n",
    "import mlflow as mlflow\n",
    "%matplotlib inline"
   ]
  },
  {
   "cell_type": "code",
   "execution_count": 2,
   "id": "1e5ff59b-68a2-4978-9db4-359b0ce77c5e",
   "metadata": {},
   "outputs": [],
   "source": [
    "torch.manual_seed(42);"
   ]
  },
  {
   "cell_type": "code",
   "execution_count": 3,
   "id": "05e410fb-0d64-4295-aa19-af945a0ea560",
   "metadata": {},
   "outputs": [
    {
     "data": {
      "text/plain": [
       "['emma', 'olivia', 'ava', 'isabella', 'sophia']"
      ]
     },
     "execution_count": 3,
     "metadata": {},
     "output_type": "execute_result"
    }
   ],
   "source": [
    "names = open(\"../datasets/llm/names.txt\",mode=\"r\",encoding=\"utf8\").read().splitlines()\n",
    "names[:5]"
   ]
  },
  {
   "cell_type": "code",
   "execution_count": 4,
   "id": "654bf64f-d2ce-4017-8f2d-d189c1472063",
   "metadata": {},
   "outputs": [],
   "source": [
    "vocab = \"\".join(sorted(set(x for word in names+[\".\"] for x in word))) # building vocab"
   ]
  },
  {
   "cell_type": "code",
   "execution_count": 5,
   "id": "e8a6af79-3c19-4017-916c-ea8491550917",
   "metadata": {},
   "outputs": [
    {
     "data": {
      "text/plain": [
       "27"
      ]
     },
     "execution_count": 5,
     "metadata": {},
     "output_type": "execute_result"
    }
   ],
   "source": [
    "len(vocab)"
   ]
  },
  {
   "cell_type": "code",
   "execution_count": 6,
   "id": "fe3330ae-5a88-4618-8651-32aefc66735c",
   "metadata": {},
   "outputs": [],
   "source": [
    "stoi = {k:v for v,k in enumerate(vocab)}\n",
    "itos = {v:k for v,k in enumerate(vocab)}"
   ]
  },
  {
   "cell_type": "code",
   "execution_count": 7,
   "id": "98f50d52-bebc-4f64-95dc-268132b3a5e9",
   "metadata": {
    "scrolled": true
   },
   "outputs": [
    {
     "name": "stdout",
     "output_type": "stream",
     "text": [
      "torch.Size([182472, 8]) torch.Size([182472])\n",
      "torch.Size([22801, 8]) torch.Size([22801])\n",
      "torch.Size([22873, 8]) torch.Size([22873])\n"
     ]
    }
   ],
   "source": [
    "torch.set_default_device(\"cpu\")\n",
    "def build_dataset(data, n_context):\n",
    "    xs = []\n",
    "    ys = []\n",
    "    \n",
    "    for x in data:\n",
    "        context = [0]* n_context\n",
    "        for ch in x + \".\":\n",
    "            # print(f\"{context} {stoi[ch]}\")\n",
    "            ix = stoi[ch]\n",
    "            xs.append(context)\n",
    "            ys.append(ix)\n",
    "            context = context[1:]+[ix]\n",
    "    xs = torch.tensor(xs)\n",
    "    ys = torch.tensor(ys)\n",
    "    print(xs.shape,ys.shape)\n",
    "    return xs,ys\n",
    "\n",
    "np.random.shuffle(names)\n",
    "\n",
    "data_size =  len(names)\n",
    "\n",
    "train_data = names[:int(data_size * .8)]\n",
    "dev_data = names[int(data_size * .8):int(data_size * .9)]\n",
    "test_data = names[int(data_size * .9):]\n",
    "\n",
    "#hyperparameters\n",
    "n_context = 8\n",
    "e_dim = 10\n",
    "h_dim = 200\n",
    "n_consec = 2\n",
    "\n",
    "Xtr,Ytr = build_dataset(train_data,n_context) \n",
    "Xdev,Ydev = build_dataset(dev_data,n_context)\n",
    "Xtest,Ytest = build_dataset(test_data,n_context)"
   ]
  },
  {
   "cell_type": "code",
   "execution_count": 8,
   "id": "87ea888e-6e92-4fd8-a743-e57619d600cf",
   "metadata": {},
   "outputs": [],
   "source": [
    "class Linear(torch.nn.Module):\n",
    "    def __init__(self,nin,nout,bias=True,weight=1):\n",
    "        super().__init__()\n",
    "        self.nin = nin\n",
    "        self.nout = nout\n",
    "        self.weights = Parameter(torch.randn(nin, nout) * weight)\n",
    "        self.bias = Parameter(torch.randn(nout)) if bias else None\n",
    "\n",
    "    \n",
    "    def forward(self,x):\n",
    "        self.out = x @ self.weights * self.nin**-0.5\n",
    "        if self.bias != None:\n",
    "            self.out = self.out + self.bias\n",
    "        return self.out \n",
    "\n",
    "    # def parameters(self):\n",
    "    #     self.parameters = [self.W1] + [self.b1] if self.b1!=None else [self.W1]\n",
    "    #     return self.parameters \n",
    "        \n",
    "class Flatten(torch.nn.Module):\n",
    "    def __init__(self):\n",
    "        super().__init__()\n",
    "\n",
    "    def forward(self,x):\n",
    "        self.out = x.view(x.shape[0],-1)\n",
    "        return self.out\n",
    "        \n",
    "class Embedding(torch.nn.Module):\n",
    "    def __init__(self,vocab_size,edim):\n",
    "        super().__init__()\n",
    "        self.weights = Parameter(torch.randn(vocab_size, edim))\n",
    "\n",
    "    def forward(self,x):\n",
    "        self.out = self.weights[x]\n",
    "        return self.out\n",
    "\n",
    "    # def parameters(self):\n",
    "    #     self.parameters = [self.embedding]\n",
    "    #     return self.parameters\n",
    "\n",
    "class BatchNorm1d(torch.nn.Module):\n",
    "    def __init__(self,nout,alpha=0.001,eps=1e-05):\n",
    "        super().__init__()\n",
    "        self.nout = nout\n",
    "        self.bgain = Parameter(torch.ones(1,nout))\n",
    "        self.bbias = Parameter(torch.zeros(1,nout))\n",
    "        self.bstdrunning = torch.ones(1,nout)\n",
    "        self.bmeanrunning = torch.zeros(1,nout)\n",
    "        self.alpha = alpha\n",
    "        self.eps = eps\n",
    "        \n",
    "    def forward(self,x):\n",
    "        if(self.training):\n",
    "            dimn = len(x.shape) -1\n",
    "            # print([*range(dimn)])\n",
    "            bmeani = x.mean([*range(dimn)],keepdim=True)\n",
    "            bstdi = x.std([*range(dimn)],keepdim = True)\n",
    "            self.out = self.bgain*(x - bmeani)/ (bstdi + self.eps) + self.bbias\n",
    "            with torch.no_grad():\n",
    "                self.bmeanrunning = self.alpha * self.bmeanrunning + (1 - self.alpha)* bmeani\n",
    "                self.bstdrunning = self.alpha * self.bstdrunning + (1 - self.alpha) * bstdi\n",
    "        else:\n",
    "            self.out = self.bgain*(x - self.bmeanrunning)/ (self.bstdrunning + self.eps) + self.bbias\n",
    "\n",
    "        return self.out\n",
    "   \n",
    "    # def parameters(self):\n",
    "    #     self.parameters = [self.bgain,self.bbias]\n",
    "    #     return self.parameters\n",
    "\n",
    "class FlattenConsecutive(torch.nn.Module):\n",
    "    def __init__(self,n):\n",
    "        super().__init__()\n",
    "        self.n = n\n",
    "\n",
    "    def forward(self,x):\n",
    "        B,T,C = x.shape\n",
    "        x=x.view(B,T//self.n,C * self.n)\n",
    "        if x.shape[1] == 1:\n",
    "           x =  x.squeeze(1)\n",
    "        self.out = x\n",
    "        return self.out\n",
    "\n",
    "class Tanh1(torch.nn.Module):\n",
    "    def __init__(self):\n",
    "        super().__init__()\n",
    "\n",
    "    def forward(self,x):\n",
    "        self.out = F.tanh(x)\n",
    "        return self.out\n",
    "        \n",
    "@torch.no_grad()\n",
    "def evaluate(X,Y,model):\n",
    "    model.eval()\n",
    "    out = model(X)\n",
    "    loss = F.cross_entropy(out,Y)\n",
    "    return out,loss\n",
    "\n",
    "@torch.no_grad()\n",
    "def generate(n_words,model):\n",
    "    model.eval()\n",
    "    for i in range(10):\n",
    "        #forward pass\n",
    "        out = []\n",
    "        context = [0] * 8\n",
    "        while True:\n",
    "            logits= model(torch.tensor(context).view(1,-1))\n",
    "            p = F.softmax(logits,dim=1)\n",
    "            ix = torch.multinomial(p,num_samples = 1, replacement = True)\n",
    "            context = context[1:] + [ix.item()]\n",
    "            if ix.item() == 0:\n",
    "                break\n",
    "            out.append(itos[ix.item()])\n",
    "        print(\"\".join(out))\n"
   ]
  },
  {
   "cell_type": "code",
   "execution_count": 9,
   "id": "e10f7200-c022-457b-8760-b60d0dc2369c",
   "metadata": {},
   "outputs": [],
   "source": [
    "Model =  Sequential(\n",
    "    Embedding(len(vocab),e_dim),\n",
    "    FlattenConsecutive(n_consec),Linear(n_consec*e_dim,h_dim,False),BatchNorm1d(h_dim),Tanh1(),\n",
    "    FlattenConsecutive(n_consec),Linear(n_consec*h_dim,h_dim,False),BatchNorm1d(h_dim),Tanh1(),\n",
    "    FlattenConsecutive(n_consec),Linear(n_consec*h_dim,h_dim,False),BatchNorm1d(h_dim),Tanh1(),\n",
    "    Linear(h_dim,len(vocab),weight=0.1)\n",
    "    \n",
    ")"
   ]
  },
  {
   "cell_type": "code",
   "execution_count": 18,
   "id": "a745ee71-5d8b-411a-9dee-f925e6d0046f",
   "metadata": {},
   "outputs": [
    {
     "name": "stdout",
     "output_type": "stream",
     "text": [
      "loss at 0/200000 2.3463\n",
      "loss at 10000/200000 2.1416\n",
      "loss at 20000/200000 2.6172\n",
      "loss at 30000/200000 2.0537\n",
      "loss at 40000/200000 2.2372\n",
      "loss at 50000/200000 2.3320\n",
      "loss at 60000/200000 2.5411\n",
      "loss at 70000/200000 2.0799\n",
      "loss at 80000/200000 2.5555\n",
      "loss at 90000/200000 2.1312\n",
      "loss at 100000/200000 2.4816\n",
      "loss at 110000/200000 2.2326\n",
      "loss at 120000/200000 2.4318\n",
      "loss at 130000/200000 2.4370\n",
      "loss at 140000/200000 2.3344\n",
      "loss at 150000/200000 2.1682\n",
      "loss at 160000/200000 2.3533\n",
      "loss at 170000/200000 2.2941\n",
      "loss at 180000/200000 2.0085\n",
      "loss at 190000/200000 1.9253\n",
      " Final loss: 2.3560\n"
     ]
    }
   ],
   "source": [
    "batch_size = 32\n",
    "lrsloss = []\n",
    "lossi = []\n",
    "\n",
    "for i in range(200000):\n",
    "    #forward pass\n",
    "    lr = 0.01 if i <100000 else 0.001\n",
    "    Model.train()\n",
    "    # optimizer = torch.optim.SGD(Model.parameters(), lr=lr)\n",
    "    ix = torch.randint(0,high = Xtr.shape[0],size=(batch_size,))\n",
    "    out= Model.forward(Xtr[ix])\n",
    "    loss = F.cross_entropy(out,Ytr[ix])\n",
    "    lossi.append(loss.log10().item())\n",
    "    if i % 10000 == 0:\n",
    "        print(F\"loss at {i}/200000 {loss.item():.4f}\")\n",
    "    #backpass\n",
    "    for p in Model.parameters():\n",
    "        p.grad = None\n",
    "    loss.backward()\n",
    "    for p in Model.parameters():\n",
    "        p.data += -lr*p.grad\n",
    "\n",
    "    # if i == 1:\n",
    "    #     break\n",
    "        \n",
    "\n",
    "print(F\" Final loss: {loss.item():.4f}\")"
   ]
  },
  {
   "cell_type": "code",
   "execution_count": 19,
   "id": "a3d23ef6-f70d-4767-ad44-ec45ef0c912b",
   "metadata": {},
   "outputs": [
    {
     "data": {
      "text/plain": [
       "(tensor([[-3.1598,  1.5107,  0.4619,  ..., -1.6869, -0.6454,  0.2058],\n",
       "         [-1.5981,  3.4931, -0.8021,  ..., -2.0888,  0.8885, -0.5989],\n",
       "         [-1.6940,  0.1784, -0.0622,  ..., -1.2022, -0.1736, -0.0870],\n",
       "         ...,\n",
       "         [-0.3657,  0.5261, -0.6082,  ..., -1.3563,  0.9217, -0.3996],\n",
       "         [ 0.5888,  1.3851, -0.7480,  ..., -1.5848, -0.1927, -0.3770],\n",
       "         [ 2.3214,  3.0635, -1.5757,  ..., -2.0554,  1.7077, -1.3890]]),\n",
       " tensor(2.2815))"
      ]
     },
     "execution_count": 19,
     "metadata": {},
     "output_type": "execute_result"
    }
   ],
   "source": [
    "evaluate(Xdev,Ydev,Model)"
   ]
  },
  {
   "cell_type": "code",
   "execution_count": 20,
   "id": "5be5a12d-5160-459b-907d-844f1d4e6d43",
   "metadata": {},
   "outputs": [
    {
     "data": {
      "text/plain": [
       "(tensor([[-3.1598,  1.5107,  0.4619,  ..., -1.6869, -0.6454,  0.2058],\n",
       "         [-1.4056,  4.6368, -1.0179,  ..., -1.9176,  2.0018, -1.0252],\n",
       "         [-2.2735,  0.1377, -0.0984,  ..., -1.2409,  0.8218, -0.2348],\n",
       "         ...,\n",
       "         [-2.2735,  0.1377, -0.0984,  ..., -1.2409,  0.8218, -0.2348],\n",
       "         [-0.6664,  1.9617, -0.8664,  ..., -1.6895,  0.8317, -0.6899],\n",
       "         [ 1.6150,  0.5574, -0.5174,  ..., -1.5375,  1.0195, -0.7642]]),\n",
       " tensor(2.2655))"
      ]
     },
     "execution_count": 20,
     "metadata": {},
     "output_type": "execute_result"
    }
   ],
   "source": [
    "evaluate(Xtest,Ytest,Model)"
   ]
  },
  {
   "cell_type": "code",
   "execution_count": 21,
   "id": "d149a2bd-d650-4e5c-bcf2-472bf3ddcb54",
   "metadata": {},
   "outputs": [
    {
     "name": "stdout",
     "output_type": "stream",
     "text": [
      "zzeide\n",
      "falien\n",
      "dedah\n",
      "brikebrt\n",
      "welliiye\n",
      "haasha\n",
      "arklintar\n",
      "dazvesar\n",
      "da\n",
      "ranani\n"
     ]
    }
   ],
   "source": [
    "generate(10,Model)"
   ]
  },
  {
   "cell_type": "code",
   "execution_count": 22,
   "id": "b312d9c6-1582-4a82-8377-ff9f126cca3f",
   "metadata": {},
   "outputs": [
    {
     "data": {
      "text/plain": [
       "[<matplotlib.lines.Line2D at 0x166487b10>]"
      ]
     },
     "execution_count": 22,
     "metadata": {},
     "output_type": "execute_result"
    },
    {
     "data": {
      "image/png": "[encoded data removed]",
      "text/plain": [
       "<Figure size 640x480 with 1 Axes>"
      ]
     },
     "metadata": {},
     "output_type": "display_data"
    }
   ],
   "source": [
    "plt.plot(torch.tensor(lossi).view(-1, 1000).mean(1))"
   ]
  },
  {
   "cell_type": "code",
   "execution_count": null,
   "id": "578dfa2f-0955-463d-9858-f4d06fc7b16a",
   "metadata": {},
   "outputs": [],
   "source": []
  }
 ],
 "metadata": {
  "kernelspec": {
   "display_name": "Python 3 (ipykernel)",
   "language": "python",
   "name": "python3"
  },
  "language_info": {
   "codemirror_mode": {
    "name": "ipython",
    "version": 3
   },
   "file_extension": ".py",
   "mimetype": "text/x-python",
   "name": "python",
   "nbconvert_exporter": "python",
   "pygments_lexer": "ipython3",
   "version": "3.11.7"
  }
 },
 "nbformat": 4,
 "nbformat_minor": 5
}
